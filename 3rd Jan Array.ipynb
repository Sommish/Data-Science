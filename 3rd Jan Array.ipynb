{
 "cells": [
  {
   "cell_type": "code",
   "execution_count": 1,
   "id": "c93491de-744d-4692-ac45-f2e94ded805d",
   "metadata": {},
   "outputs": [
    {
     "name": "stdout",
     "output_type": "stream",
     "text": [
      "True\n"
     ]
    }
   ],
   "source": [
    "def contains_duplicates(arr):\n",
    "    return len(arr) != len(set(arr))\n",
    "\n",
    "# Given array\n",
    "arr = [1, 2, 4, 2, 5, 9]\n",
    "\n",
    "# Check for duplicates\n",
    "output = contains_duplicates(arr)\n",
    "\n",
    "print(output)"
   ]
  },
  {
   "cell_type": "code",
   "execution_count": null,
   "id": "b5f51ce2-f4c8-4281-b9f4-ffcfb66b8ccc",
   "metadata": {},
   "outputs": [],
   "source": [
    "def rotate_array(arr, k):\n",
    "    # Ensure k is within the bounds of the array length\n",
    "    k = k % len(arr)\n",
    "    return arr[-k:] + arr[:-k]\n",
    "\n",
    "# Given array and k\n",
    "arr = [1, 2, 3, 4, 5, 6, 7]\n",
    "k = 3\n",
    "\n",
    "# Rotate the array\n",
    "output = rotate_array(arr, k)\n",
    "\n",
    "print(output)"
   ]
  },
  {
   "cell_type": "code",
   "execution_count": 2,
   "id": "3ee9ae29-fecf-4f76-914f-07a1b019f81e",
   "metadata": {},
   "outputs": [
    {
     "name": "stdout",
     "output_type": "stream",
     "text": [
      "[12, 9, 7, 5, 4, 2]\n"
     ]
    }
   ],
   "source": [
    "def reverse_array_in_place(arr):\n",
    "    left = 0\n",
    "    right = len(arr) - 1\n",
    "    \n",
    "    while left < right:\n",
    "        # Swap the elements at left and right indices\n",
    "        arr[left], arr[right] = arr[right], arr[left]\n",
    "        left += 1\n",
    "        right -= 1\n",
    "\n",
    "# Given array\n",
    "arr = [2, 4, 5, 7, 9, 12]\n",
    "\n",
    "# Reverse the array in-place\n",
    "reverse_array_in_place(arr)\n",
    "\n",
    "print(arr)"
   ]
  },
  {
   "cell_type": "code",
   "execution_count": 3,
   "id": "8e712bf4-59d6-4702-8b0a-d901d944d69c",
   "metadata": {},
   "outputs": [
    {
     "name": "stdout",
     "output_type": "stream",
     "text": [
      "20\n"
     ]
    }
   ],
   "source": [
    "def find_max_element(arr):\n",
    "    return max(arr)\n",
    "\n",
    "# Given array\n",
    "arr = [10, 5, 20, 8, 15]\n",
    "\n",
    "# Find the maximum element\n",
    "output = find_max_element(arr)\n",
    "\n",
    "print(output)"
   ]
  },
  {
   "cell_type": "code",
   "execution_count": 4,
   "id": "22e1e810-6760-427b-98c1-d7e7fedfc802",
   "metadata": {},
   "outputs": [
    {
     "name": "stdout",
     "output_type": "stream",
     "text": [
      "[1, 2, 3, 4, 5]\n"
     ]
    }
   ],
   "source": [
    "def remove_duplicates(arr):\n",
    "    # Initialize the index for the next unique element\n",
    "    unique_index = 0\n",
    "    \n",
    "    # Iterate through the array\n",
    "    for i in range(1, len(arr)):\n",
    "        # If the current element is different from the last unique element\n",
    "        if arr[i] != arr[unique_index]:\n",
    "            # Move the unique index forward and update the value\n",
    "            unique_index += 1\n",
    "            arr[unique_index] = arr[i]\n",
    "    \n",
    "    # Return the array up to the last unique element\n",
    "    return arr[:unique_index + 1]\n",
    "\n",
    "# Given sorted array\n",
    "arr = [1, 1, 2, 2, 2, 3, 3, 4, 4, 4, 5, 5]\n",
    "\n",
    "# Remove duplicates\n",
    "output = remove_duplicates(arr)\n",
    "\n",
    "print(output)  # Output: [1, 2, 3, 4, 5]\n"
   ]
  },
  {
   "cell_type": "code",
   "execution_count": null,
   "id": "0d0ec03e-d2d7-409b-b8c6-19e065977557",
   "metadata": {},
   "outputs": [],
   "source": []
  },
  {
   "cell_type": "code",
   "execution_count": null,
   "id": "8a6eb80f-611d-4c0a-8db1-dd677bfd352c",
   "metadata": {},
   "outputs": [],
   "source": []
  },
  {
   "cell_type": "code",
   "execution_count": null,
   "id": "8101bb92-22a3-4c7e-a43f-07a8dc3c30f5",
   "metadata": {},
   "outputs": [],
   "source": []
  }
 ],
 "metadata": {
  "kernelspec": {
   "display_name": "Python 3 (ipykernel)",
   "language": "python",
   "name": "python3"
  },
  "language_info": {
   "codemirror_mode": {
    "name": "ipython",
    "version": 3
   },
   "file_extension": ".py",
   "mimetype": "text/x-python",
   "name": "python",
   "nbconvert_exporter": "python",
   "pygments_lexer": "ipython3",
   "version": "3.9.13"
  }
 },
 "nbformat": 4,
 "nbformat_minor": 5
}
