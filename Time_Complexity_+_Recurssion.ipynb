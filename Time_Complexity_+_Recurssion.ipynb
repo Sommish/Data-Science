{
  "nbformat": 4,
  "nbformat_minor": 0,
  "metadata": {
    "colab": {
      "provenance": [],
      "authorship_tag": "ABX9TyM2EcCLzbze6YpG6dYrNVCH",
      "include_colab_link": true
    },
    "kernelspec": {
      "name": "python3",
      "display_name": "Python 3"
    },
    "language_info": {
      "name": "python"
    }
  },
  "cells": [
    {
      "cell_type": "markdown",
      "metadata": {
        "id": "view-in-github",
        "colab_type": "text"
      },
      "source": [
        "<a href=\"https://colab.research.google.com/github/Sommish/Data-Science/blob/main/Time_Complexity_%2B_Recurssion.ipynb\" target=\"_parent\"><img src=\"https://colab.research.google.com/assets/colab-badge.svg\" alt=\"Open In Colab\"/></a>"
      ]
    },
    {
      "cell_type": "code",
      "source": [
        "# Problem 1: Quicksort\n",
        "def quicksort(arr):\n",
        "    if len(arr) <= 1:\n",
        "        return arr\n",
        "    pivot = arr[len(arr) // 2]\n",
        "    left = [x for x in arr if x < pivot]\n",
        "    middle = [x for x in arr if x == pivot]\n",
        "    right = [x for x in arr if x > pivot]\n",
        "    return quicksort(left) + middle + quicksort(right)\n",
        "\n",
        "# The average time complexity of quicksort is  O(nlogn)\n"
      ],
      "metadata": {
        "id": "1QF0OY3Iva2U"
      },
      "execution_count": null,
      "outputs": []
    },
    {
      "cell_type": "code",
      "source": [
        "# Problem 2: Nested Loop Example\n",
        "\n",
        "def nested_loop_example(matrix):\n",
        "    rows, cols = len(matrix), len(matrix[0])\n",
        "    total = 0\n",
        "    for i in range(rows):\n",
        "        for j in range(cols):\n",
        "            total += matrix[i][j]\n",
        "    return total\n",
        "\n",
        "# The time complexity is:-  O(rows×cols)"
      ],
      "metadata": {
        "id": "jn4TaFnYvt_X"
      },
      "execution_count": null,
      "outputs": []
    },
    {
      "cell_type": "code",
      "source": [
        "# Problem 3: Example Function\n",
        "def example_function(arr):\n",
        "    result = 0\n",
        "    for element in arr:\n",
        "        result += element\n",
        "    return result\n",
        "\n",
        "# The time complexity is O(n)"
      ],
      "metadata": {
        "id": "GXhc1o10vt8g"
      },
      "execution_count": null,
      "outputs": []
    },
    {
      "cell_type": "code",
      "source": [
        "# Problem 4: Longest Increasing Subsequence\n",
        "def longest_increasing_subsequence(nums):\n",
        "    n = len(nums)\n",
        "    lis = [1] * n\n",
        "    for i in range(1, n):\n",
        "        for j in range(0, i):\n",
        "            if nums[i] > nums[j] and lis[i] < lis[j] + 1:\n",
        "                lis[i] = lis[j] + 1\n",
        "    return max(lis)\n",
        "\n",
        "# The time complexity  O(n2)\n"
      ],
      "metadata": {
        "id": "ZES13oAdvt5X"
      },
      "execution_count": null,
      "outputs": []
    },
    {
      "cell_type": "code",
      "source": [
        "# Problem 5: Mysterious Function\n",
        "def mysterious_function(arr):\n",
        "    n = len(arr)\n",
        "    result = 0\n",
        "    for i in range(n):\n",
        "        for j in range(i, n):\n",
        "            result += arr[i] * arr[j]\n",
        "    return result\n",
        "# The time complexity  O(n2)"
      ],
      "metadata": {
        "id": "yuALvpFRvttb"
      },
      "execution_count": null,
      "outputs": []
    },
    {
      "cell_type": "code",
      "source": [
        "# Problem 6: Sum of Digits\n",
        "# recursive function to calculate the sum of digits of a given positive integer:\n",
        "\n",
        "def sum_of_digits(n):\n",
        "    if n == 0:\n",
        "        return 0\n",
        "    else:\n",
        "        return n % 10 + sum_of_digits(n // 10)\n",
        "\n",
        "# Test the function\n",
        "print(sum_of_digits(123))  # Output: 6"
      ],
      "metadata": {
        "id": "zZMxziP5wYad"
      },
      "execution_count": null,
      "outputs": []
    },
    {
      "cell_type": "code",
      "source": [
        "# Problem 7: Fibonacci Series\n",
        "# Here's a recursive function to generate the first n numbers of the Fibonacci series:\n",
        "\n",
        "def fibonacci_series(n):\n",
        "    if n <= 0:\n",
        "        return []\n",
        "    elif n == 1:\n",
        "        return [0]\n",
        "    elif n == 2:\n",
        "        return [0, 1]\n",
        "    else:\n",
        "        fibs = fibonacci_series(n - 1)\n",
        "        fibs.append(fibs[-1] + fibs[-2])\n",
        "        return fibs\n",
        "\n",
        "# Test the function\n",
        "print(fibonacci_series(6))  # Output: [0, 1, 1, 2, 3, 5]"
      ],
      "metadata": {
        "id": "EWKB01sRwYYI"
      },
      "execution_count": null,
      "outputs": []
    },
    {
      "cell_type": "code",
      "source": [
        "# Problem 8: Subset Sum\n",
        "# Here's a recursive function to determine if there exists a subset of the integers that adds up to the target sum:\n",
        "\n",
        "def subset_sum(nums, target):\n",
        "    if target == 0:\n",
        "        return True\n",
        "    if not nums:\n",
        "        return False\n",
        "    if nums[0] > target:\n",
        "        return subset_sum(nums[1:], target)\n",
        "    return subset_sum(nums[1:], target) or subset_sum(nums[1:], target - nums[0])\n",
        "\n",
        "# Test the function\n",
        "print(subset_sum([3, 34, 4, 12, 5, 2], 9))  # Output: True"
      ],
      "metadata": {
        "id": "ufLVP_XAwYWD"
      },
      "execution_count": null,
      "outputs": []
    },
    {
      "cell_type": "code",
      "source": [
        "# Problem 9: Word Break\n",
        "# Here's a recursive function to determine if the string can be segmented into a space-separated sequence of dictionary words:\n",
        "\n",
        "def word_break(s, word_dict):\n",
        "    if not s:\n",
        "        return True\n",
        "    for word in word_dict:\n",
        "        if s.startswith(word):\n",
        "            if word_break(s[len(word):], word_dict):\n",
        "                return True\n",
        "    return False\n",
        "\n",
        "# Test the function\n",
        "print(word_break(\"leetcode\", [\"leet\", \"code\"]))  # Output: True"
      ],
      "metadata": {
        "id": "BjsIU045wYTb"
      },
      "execution_count": null,
      "outputs": []
    },
    {
      "cell_type": "code",
      "source": [
        "# Problem 10: N-Queens\n",
        "# Here's a recursive function to solve the N Queens problem, where you have to place N queens on an N×N chessboard in such a way that no two queens threaten each other:\n",
        "\n",
        "def solve_n_queens(n):\n",
        "    def is_safe(board, row, col):\n",
        "        # Check this column on upper side\n",
        "        for i in range(row):\n",
        "            if board[i][col] == 'Q':\n",
        "                return False\n",
        "\n",
        "        # Check upper diagonal on left side\n",
        "        for i, j in zip(range(row, -1, -1), range(col, -1, -1)):\n",
        "            if board[i][j] == 'Q':\n",
        "                return False\n",
        "\n",
        "        # Check upper diagonal on right side\n",
        "        for i, j in zip(range(row, -1, -1), range(col, n)):\n",
        "            if board[i][j] == 'Q':\n",
        "                return False\n",
        "\n",
        "        return True\n",
        "\n",
        "    def solve(board, row):\n",
        "        if row >= n:\n",
        "            result.append([''.join(row) for row in board])\n",
        "            return\n",
        "\n",
        "        for col in range(n):\n",
        "            if is_safe(board, row, col):\n",
        "                board[row][col] = 'Q'\n",
        "                solve(board, row + 1)\n",
        "                board[row][col] = '.'\n",
        "\n",
        "    result = []\n",
        "    board = [['.' for _ in range(n)] for _ in range(n)]\n",
        "    solve(board, 0)\n",
        "    return result\n",
        "\n",
        "# Test the function\n",
        "n = 4\n",
        "solutions = solve_n_queens(n)\n",
        "for solution in solutions:\n",
        "    for row in solution:\n",
        "        print(row)\n",
        "    print()"
      ],
      "metadata": {
        "id": "HIh2ehCuwYQG"
      },
      "execution_count": null,
      "outputs": []
    }
  ]
}