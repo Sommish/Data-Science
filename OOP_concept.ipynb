{
  "cells": [
    {
      "cell_type": "markdown",
      "metadata": {
        "id": "view-in-github",
        "colab_type": "text"
      },
      "source": [
        "<a href=\"https://colab.research.google.com/github/Sommish/Data-Science/blob/main/OOP_concept.ipynb\" target=\"_parent\"><img src=\"https://colab.research.google.com/assets/colab-badge.svg\" alt=\"Open In Colab\"/></a>"
      ]
    },
    {
      "cell_type": "code",
      "execution_count": null,
      "metadata": {
        "id": "M3M4wT9fOBwi"
      },
      "outputs": [],
      "source": [
        "class Fraction:\n",
        "\n",
        "  def __init__(self,x,y):\n",
        "    self.nume = x\n",
        "    self.deno = y\n",
        "\n",
        "  def __str__(self):\n",
        "    return \"{}/{}\".format(self.nume,self.deno)\n",
        "\n",
        "  def __add__(self,other):\n",
        "    new_num = self.nume * other.deno + self.deno * other.nume\n",
        "    new_den = self.deno * other.deno\n",
        "\n",
        "    return \"{}/{} \".format(new_num,new_den)\n",
        "\n",
        "  def __mul__(self,other):\n",
        "    new_num = self.nume * other.nume\n",
        "    new_den = self.deno * other.deno\n",
        "\n",
        "    return \" {}/{}\".format(new_num,new_den)\n",
        "\n",
        "  def __sub__(self,other):\n",
        "    new_num = self.nume * other.deno - self.deno * other.nume\n",
        "    new_den = self.deno * other.deno\n",
        "\n",
        "    return \"{}/{} \".format(new_num,new_den)\n",
        "\n",
        "  def __truediv__(self,other):\n",
        "    new_num = self.nume * other.deno\n",
        "    new_den = self.deno * other.nume\n",
        "\n",
        "    return \" {}/{}\".format(new_num,new_den)"
      ]
    },
    {
      "cell_type": "code",
      "execution_count": null,
      "metadata": {
        "colab": {
          "base_uri": "https://localhost:8080/"
        },
        "id": "RAg3-4TORd4F",
        "outputId": "0a4b4272-f3b0-4f8a-a07a-17ba3b7da20f"
      },
      "outputs": [
        {
          "name": "stdout",
          "output_type": "stream",
          "text": [
            "10/8 \n",
            " 3/8\n",
            "2/8 \n",
            " 6/4\n"
          ]
        }
      ],
      "source": [
        "obj = Fraction(3,4)\n",
        "obj1 = Fraction(1,2)\n",
        "\n",
        "print(obj+obj1)\n",
        "print(obj*obj1)\n",
        "print(obj-obj1)\n",
        "print(obj/obj1)"
      ]
    },
    {
      "cell_type": "code",
      "execution_count": null,
      "metadata": {
        "id": "LWM-7Rgz0NXd"
      },
      "outputs": [],
      "source": [
        "class rectangle:\n",
        "\n",
        "  def __init__(self,l,b):\n",
        "    self.length = l\n",
        "    self.breadth = b\n",
        "\n",
        "  def __str__(self):\n",
        "    return \"{} {} \".format(self.length,self.breadth)\n",
        "\n",
        "  def display(self):\n",
        "    # perimeter call\n",
        "    print(\"length of a rectangle is \", self.length)\n",
        "    print(\"breadth of a rectangle is \", self.breadth)\n",
        "    print(\"perimeter of a rectangle is \",self.perimeter())\n",
        "    print(\"area of a rectangle is \",self.area())\n",
        "    # area call\n",
        "\n",
        "  def perimeter(self):\n",
        "    return 2*(self.length + self.breadth)\n",
        "\n",
        "  def area(self):\n",
        "    return self.length * self.breadth\n"
      ]
    },
    {
      "cell_type": "code",
      "execution_count": null,
      "metadata": {
        "colab": {
          "base_uri": "https://localhost:8080/"
        },
        "id": "4ZfeAbf_0hvV",
        "outputId": "a72ab7c4-df8a-4692-e008-e794665b714d"
      },
      "outputs": [
        {
          "name": "stdout",
          "output_type": "stream",
          "text": [
            "length of a rectangle is  3\n",
            "breadth of a rectangle is  4\n",
            "perimeter of a rectangle is  14\n",
            "area of a rectangle is  12\n"
          ]
        }
      ],
      "source": [
        "obj = rectangle(3,4)\n",
        "obj.display()\n"
      ]
    },
    {
      "cell_type": "code",
      "execution_count": null,
      "metadata": {
        "id": "OGGxC1Qn0lcc"
      },
      "outputs": [],
      "source": [
        "# let's create a class for a co-ordinate geometry\n",
        "\n",
        "class geometry:\n",
        "\n",
        "  def __init__(self,x,y):\n",
        "    self.x = x\n",
        "    self.y = y\n",
        "\n",
        "  def __str__(self):\n",
        "    return \"< {} , {} >\".format(self.x,self.y)\n",
        "\n",
        "  def euclidean_dis(self,other):\n",
        "    return ((self.x - other.x)**2 + (self.y - other.y)**2)**0.5\n",
        "\n",
        "  def dis_from_origin(self):\n",
        "    return ((self.x)**2 + (self.y)**2)**0.5\n",
        "    #return self.euclidean_dis(geometry(3,3))\n",
        "\n",
        "class intersect:\n",
        "\n",
        "  def __init__(self,A,B,C):\n",
        "    self.A = A\n",
        "    self.B = B\n",
        "    self.C = C\n",
        "\n",
        "  def __str__(self):\n",
        "    return \"{}x + {}y + {} \".format(self.A,self.B,self.C)\n",
        "\n",
        "  def inter(point,line,point2,line2):\n",
        "\n",
        "    if intersect.A*point.x + intersect.B*point.y+intersect.c == 0 and\n",
        "    intersect.A*\n",
        "\n",
        "\n",
        "\n"
      ]
    },
    {
      "cell_type": "code",
      "execution_count": null,
      "metadata": {
        "id": "kQO5EXDSNJ9p"
      },
      "outputs": [],
      "source": [
        "class Line:\n",
        "    def __init__(self, x1, y1, x2, y2):\n",
        "        self.x1 = x1\n",
        "        self.y1 = y1\n",
        "        self.x2 = x2\n",
        "        self.y2 = y2\n",
        "\n",
        "    def direction(self, other):\n",
        "        return (other.x2 - other.x1) * (self.y2 - self.y1) - (other.y2 - other.y1) * (self.x2 - self.x1)\n",
        "\n",
        "    def on_segment(self, other):\n",
        "        if min(self.x1, self.x2) <= other.x1 <= max(self.x1, self.x2) and min(self.y1, self.y2) <= other.y1 <= max(self.y1, self.y2):\n",
        "            return True\n",
        "        return False\n",
        "\n",
        "    def is_intersecting(self, other):\n",
        "        d1 = self.direction(Line(other.x1, other.y1, self.x1, self.y1))\n",
        "        d2 = self.direction(Line(other.x2, other.y2, self.x1, self.y1))\n",
        "        d3 = other.direction(Line(self.x1, self.y1, other.x1, other.y1))\n",
        "        d4 = other.direction(Line(self.x2, self.y2, other.x1, other.y1))\n",
        "\n",
        "        if d1 * d2 < 0 and d3 * d4 < 0:\n",
        "            return True\n",
        "\n",
        "        if d1 == 0 and self.on_segment(Line(other.x1, other.y1, self.x1, self.y1)):\n",
        "            return True\n",
        "\n",
        "        if d2 == 0 and self.on_segment(Line(other.x2, other.y2, self.x1, self.y1)):\n",
        "            return True\n",
        "\n",
        "        if d3 == 0 and other.on_segment(Line(self.x1, self.y1, other.x1, other.y1)):\n",
        "            return True\n",
        "\n",
        "        if d4 == 0 and other.on_segment(Line(self.x2, self.y2, other.x1, other.y1)):\n",
        "            return True\n",
        "\n",
        "        return False\n",
        "\n",
        "# Example usage:\n",
        "line1 = Line(0, 0, 4, 4)\n",
        "line2 = Line(0, 4, 4, 0)\n",
        "\n",
        "if line1.is_intersecting(line2):\n",
        "    print(\"The lines intersect.\")\n",
        "else:\n",
        "    print(\"The lines do not intersect.\")\n"
      ]
    },
    {
      "cell_type": "code",
      "execution_count": null,
      "metadata": {
        "colab": {
          "base_uri": "https://localhost:8080/"
        },
        "id": "aBInKzZe88h-",
        "outputId": "c45f4bae-7ea0-4c9e-f372-65250e6418fc"
      },
      "outputs": [
        {
          "name": "stdout",
          "output_type": "stream",
          "text": [
            "2x + 3y + 4 \n"
          ]
        }
      ],
      "source": [
        "\n",
        "#obj.dis_from_origin()\n",
        "l1= intersect(2,3,4)\n",
        "print(l1)"
      ]
    },
    {
      "cell_type": "code",
      "execution_count": null,
      "metadata": {
        "colab": {
          "base_uri": "https://localhost:8080/"
        },
        "id": "DeX3gqTH9AkZ",
        "outputId": "37cf354f-c636-44ae-96ae-acad4899e3f0"
      },
      "outputs": [
        {
          "data": {
            "text/plain": [
              "1.4142135623730951"
            ]
          },
          "execution_count": 110,
          "metadata": {},
          "output_type": "execute_result"
        }
      ],
      "source": [
        "obj1.dis_from_origin()"
      ]
    },
    {
      "cell_type": "code",
      "execution_count": null,
      "metadata": {
        "id": "3imHXznqBOFL"
      },
      "outputs": [],
      "source": [
        "class person:\n",
        "\n",
        "  def __init__(self,name,country):\n",
        "    self.name = name\n",
        "    self.country = country\n",
        "\n",
        "  def greet(self):\n",
        "    if self.country == \"India\":\n",
        "      print(\"Namste\",self.name)\n",
        "    else:\n",
        "      print(\"Hello\",self.name)"
      ]
    },
    {
      "cell_type": "code",
      "execution_count": null,
      "metadata": {
        "colab": {
          "base_uri": "https://localhost:8080/",
          "height": 71
        },
        "id": "zQGxKXiPoSgb",
        "outputId": "4125adf0-f3ef-4831-88f6-9eaebfa841e0"
      },
      "outputs": [
        {
          "name": "stdout",
          "output_type": "stream",
          "text": [
            "Australia\n",
            "Hello Shivam\n"
          ]
        },
        {
          "data": {
            "application/vnd.google.colaboratory.intrinsic+json": {
              "type": "string"
            },
            "text/plain": [
              "'male'"
            ]
          },
          "execution_count": 133,
          "metadata": {},
          "output_type": "execute_result"
        }
      ],
      "source": [
        "# how to access attributes, variables\n",
        "obj = person(\"Shivam\",\"Australia\")\n",
        "obj.country\n",
        "print(obj.country)\n",
        "obj.greet()\n",
        "\n",
        "obj.gender = 'male'\n",
        "obj.gender\n"
      ]
    },
    {
      "cell_type": "code",
      "execution_count": null,
      "metadata": {
        "colab": {
          "base_uri": "https://localhost:8080/"
        },
        "id": "F22XyRWmodMo",
        "outputId": "01ab1475-7597-48b4-d8fe-391d23698e62"
      },
      "outputs": [
        {
          "data": {
            "text/plain": [
              "<__main__.person at 0x799bea9317e0>"
            ]
          },
          "execution_count": 125,
          "metadata": {},
          "output_type": "execute_result"
        }
      ],
      "source": [
        "# how to access methods\n"
      ]
    },
    {
      "cell_type": "code",
      "execution_count": null,
      "metadata": {
        "colab": {
          "base_uri": "https://localhost:8080/"
        },
        "id": "2W897Y7Co61H",
        "outputId": "54c0af5b-0e65-408d-a7e9-6f49576e7829"
      },
      "outputs": [
        {
          "name": "stdout",
          "output_type": "stream",
          "text": [
            "Hi I am shivam  I am a  male\n"
          ]
        }
      ],
      "source": [
        "class person:\n",
        "\n",
        "  def __init__(self,name,gender):\n",
        "    self.name = name\n",
        "    self.gender = gender\n",
        "\n",
        "def greet(person):\n",
        "  print(\"Hi I am\",person.name,\" I am a \",person.gender)\n",
        "\n",
        "p=person(\"shivam\",\"male\")\n",
        "\n",
        "greet(p)"
      ]
    },
    {
      "cell_type": "code",
      "execution_count": null,
      "metadata": {
        "id": "-lHlyBj7rMX2"
      },
      "outputs": [],
      "source": [
        "#class employee:\n",
        "\n",
        "  def reademp(self):\n",
        "    self.eno = int(input(\"Enter a emp no.\"))\n",
        "    self.ename = input(\"Enter employee name \")\n",
        "    self.sal = int(input(\"Enter emp salary \"))\n",
        "    self.disemp()\n",
        "\n",
        "  def disemp(self):\n",
        "    print(\"Emp no . {}\".format(self.eno))\n",
        "    print(\"Emp enam {}\".format(self.ename))\n",
        "    print(\"Emp sal {}\".format(self.sal))\n",
        "\n"
      ]
    },
    {
      "cell_type": "code",
      "execution_count": null,
      "metadata": {
        "colab": {
          "base_uri": "https://localhost:8080/"
        },
        "id": "evcPqUIvRGgE",
        "outputId": "01b63aa9-56f0-4f21-8b51-87d3510ee17b"
      },
      "outputs": [
        {
          "name": "stdout",
          "output_type": "stream",
          "text": [
            "Enter a emp no.101\n",
            "Enter employee name shivam\n",
            "Enter emp salary 500000\n",
            "Emp no . 101\n",
            "Emp enam shivam\n",
            "Emp sal 500000\n"
          ]
        }
      ],
      "source": [
        "e1=employee()\n",
        "\n",
        "e1.reademp()"
      ]
    },
    {
      "cell_type": "code",
      "execution_count": null,
      "metadata": {
        "colab": {
          "base_uri": "https://localhost:8080/"
        },
        "id": "OtT9EhdlSB7w",
        "outputId": "24ba6632-78fc-4fce-af95-b7d76e00a0c4"
      },
      "outputs": [
        {
          "name": "stdout",
          "output_type": "stream",
          "text": [
            "Enter Value of a:20\n",
            "Enter Value of b:30\n",
            "sum(20.0,30.0)=50.0\n"
          ]
        }
      ],
      "source": [
        "class Sum:\n",
        "\tdef readvals(self):\n",
        "\t\tself.a=float(input(\"Enter Value of a:\"))\n",
        "\t\tself.b=float(input(\"Enter Value of b:\"))\n",
        "\tdef addop(self):\n",
        "\t\tself.c=self.a+self.b\n",
        "\n",
        "\tdef disp(self):\n",
        "\t\tprint(\"sum({},{})={}\".format(self.a,self.b,self.c))\n",
        "\n",
        "#main program,\n",
        "s=Sum()\n",
        "s.readvals()\n",
        "s.addop()\n",
        "s.disp()"
      ]
    },
    {
      "cell_type": "code",
      "execution_count": null,
      "metadata": {
        "id": "0pclkkgjShWu"
      },
      "outputs": [],
      "source": [
        "\n",
        "class sum:\n",
        "\n",
        "  def readval(self):\n",
        "    self.a = float(input(\"Enter value of a \"))\n",
        "    self.b = float(input(\"Enter value of b \"))\n",
        "\n",
        "\n",
        "  def addop(self):\n",
        "    self.c = self.a + self.b\n",
        "\n",
        "  def disres(self):\n",
        "    self.readval()\n",
        "    self.addop()\n",
        "    print(\"sum of values {}, {} is {}\".format(self.a,self.b,self.c))\n"
      ]
    },
    {
      "cell_type": "code",
      "execution_count": null,
      "metadata": {
        "colab": {
          "base_uri": "https://localhost:8080/"
        },
        "id": "60qQ4ZXcTzjq",
        "outputId": "4a59733b-3a62-460d-c246-eda17e177959"
      },
      "outputs": [
        {
          "name": "stdout",
          "output_type": "stream",
          "text": [
            "Enter value of a 30\n",
            "Enter value of b 40\n",
            "sum of values 30.0, 40.0 is 70.0\n"
          ]
        }
      ],
      "source": [
        "e1 = sum()\n",
        "e1.disres()"
      ]
    },
    {
      "cell_type": "code",
      "execution_count": null,
      "metadata": {
        "id": "cdr6ClyIT92J"
      },
      "outputs": [],
      "source": [
        "class employee1:\n",
        "  @classmethod\n",
        "  def getcompdet(cls):\n",
        "    employee1.getadd()\n",
        "    employee1.cname = \"TCS\"\n",
        "  @classmethod\n",
        "  def getadd(cls):\n",
        "    cls.addr = \"HYD\"\n",
        "\n",
        "  def reademp(self):\n",
        "    self.eno = int(input(\"Enter a emp no.\"))\n",
        "    self.ename = input(\"Enter emp name \")\n",
        "    self.salary = float(input(\"Enter emp salary \"))\n",
        "\n",
        "  def disemp(self):\n",
        "    self.reademp()\n",
        "    self.getcompdet()\n",
        "    print(\"Employee no \",self.eno)\n",
        "    print(\"Employee name \",self.ename)\n",
        "    print(\"Employee salary is \",self.salary)\n",
        "    print(\"Employee company name \",self.cname)\n",
        "    print(\"Employee company name \",self.addr)\n",
        "\n",
        "\n",
        "\n"
      ]
    },
    {
      "cell_type": "code",
      "execution_count": null,
      "metadata": {
        "colab": {
          "base_uri": "https://localhost:8080/"
        },
        "id": "shrzr22XYuYY",
        "outputId": "31f0308e-6213-40ed-eef8-3bf84d7882c1"
      },
      "outputs": [
        {
          "name": "stdout",
          "output_type": "stream",
          "text": [
            "Enter a emp no.101\n",
            "Enter emp name shivam\n",
            "Enter emp salary 500000\n",
            "Employee no  101\n",
            "Employee name  shivam\n",
            "Employee salary is  500000.0\n",
            "Employee company name  TCS\n",
            "Employee company name  HYD\n"
          ]
        }
      ],
      "source": [
        "e1=employee1()\n",
        "e1.disemp()\n"
      ]
    },
    {
      "cell_type": "code",
      "execution_count": null,
      "metadata": {
        "id": "ESqIjdE_Y9EW"
      },
      "outputs": [],
      "source": [
        "class Student:\n",
        "\tdef  __init__(self, sno,sname,marks):\n",
        "\t\tself.sno=sno\n",
        "\t\tself.sname=sname\n",
        "\t\tself.smarks=marks\n",
        "\tdef dispstuddet(self):\n",
        "\t\tprint(\"\\t{}\\t{}\\t{}\".format(self.sno,self.sname,self.smarks))"
      ]
    },
    {
      "cell_type": "code",
      "execution_count": null,
      "metadata": {
        "colab": {
          "base_uri": "https://localhost:8080/"
        },
        "id": "BBDmWVNKfjRL",
        "outputId": "3350509c-46e6-4b84-ab35-251f0aef98d7"
      },
      "outputs": [
        {
          "data": {
            "text/plain": [
              "<__main__.Student at 0x796954ee08b0>"
            ]
          },
          "execution_count": 40,
          "metadata": {},
          "output_type": "execute_result"
        }
      ],
      "source": [
        "s=Student(101,'shiavm',200)\n",
        "\n",
        "s"
      ]
    },
    {
      "cell_type": "code",
      "execution_count": null,
      "metadata": {
        "id": "mSJAeQ3Ffrqd"
      },
      "outputs": [],
      "source": [
        "class Student1:\n",
        "\tdef  appendstuddata(self, sno,sname,marks):\n",
        "\t\tself.sno=sno\n",
        "\t\tself.sname=sname\n",
        "\t\tself.smarks=marks\n",
        "\tdef dispstuddet(self):\n",
        "\t\tprint(\"\\t{}\\t{}\\t{}\".format(self.sno,self.sname,self.smarks))"
      ]
    },
    {
      "cell_type": "code",
      "execution_count": null,
      "metadata": {
        "colab": {
          "base_uri": "https://localhost:8080/"
        },
        "id": "yOmxvaV7gOHL",
        "outputId": "79b378f9-a7ad-4646-b035-0ed64f64630f"
      },
      "outputs": [
        {
          "name": "stdout",
          "output_type": "stream",
          "text": [
            "\t1011\tshivam\t200\n"
          ]
        }
      ],
      "source": [
        "s=Student1()\n",
        "\n",
        "s.appendstuddata(1011,'shivam',200)\n",
        "s.dispstuddet()"
      ]
    },
    {
      "cell_type": "code",
      "execution_count": null,
      "metadata": {
        "colab": {
          "base_uri": "https://localhost:8080/"
        },
        "id": "dC2EdEnfgV7e",
        "outputId": "24c2ffff-90e4-4c87-aba1-4ce79825363e"
      },
      "outputs": [
        {
          "name": "stdout",
          "output_type": "stream",
          "text": [
            "i am from Parametrized constructor:\n",
            "\ta=10\tb=20\n",
            "i am from Parametrized constructor:\n",
            "\ta=100\tb=200\n",
            "i am from Parametrized constructor:\n",
            "\ta=1000\tb=2000\n"
          ]
        }
      ],
      "source": [
        "class Test:\n",
        "\tdef __init__(self,k,v):\n",
        "\t\tprint(\"i am from Parametrized constructor:\")\n",
        "\t\tself.a=k\n",
        "\t\tself.b=v\n",
        "\t\tprint(\"\\ta={}\\tb={}\".format(self.a,self.b))\n",
        "\n",
        "#main program\n",
        "t1=Test(10,20)# Object creation calls Parametrized Constructor\n",
        "t2=Test(100,200)# Object creation calls Parametrized Constructor\n",
        "t3=Test(1000,2000)# Object creation calls Parametrized Constructor"
      ]
    },
    {
      "cell_type": "code",
      "execution_count": null,
      "metadata": {
        "colab": {
          "base_uri": "https://localhost:8080/"
        },
        "id": "jnKGVLUPlHru",
        "outputId": "4a621d32-5096-4887-e320-821cc45c3c67"
      },
      "outputs": [
        {
          "name": "stdout",
          "output_type": "stream",
          "text": [
            "Content of s =  {}\n",
            "Enter Student Number:101\n",
            "Enter Student Name:shivam\n",
            "Enter Student Marks:100\n",
            "Content of s =  {'sno': 101, 'sname': 'shivam', 'marks': 100.0}\n"
          ]
        }
      ],
      "source": [
        "class Student:\n",
        "\tdef readstudvalues(self):\n",
        "\t\tself.sno=int(input(\"Enter Student Number:\"))\n",
        "\t\tself.sname=input(\"Enter Student Name:\")\n",
        "\t\tself.marks=float(input(\"Enter Student Marks:\"))\n",
        "\n",
        "#main program\n",
        "s=Student() # Object Creation--{}\n",
        "print(\"Content of s = \",s.__dict__)\n",
        "s.readstudvalues() # calling the instance method explicitly\n",
        "print(\"Content of s = \",s.__dict__)"
      ]
    },
    {
      "cell_type": "code",
      "execution_count": null,
      "metadata": {
        "colab": {
          "base_uri": "https://localhost:8080/"
        },
        "id": "3K_0_wSwlrfn",
        "outputId": "b7d0cd1f-c841-4c0c-d97d-5a9a638a6dad"
      },
      "outputs": [
        {
          "output_type": "stream",
          "name": "stdout",
          "text": [
            "i am from constructor\n",
            "<__main__.Student object at 0x796954d65240>\n",
            "10\n"
          ]
        }
      ],
      "source": [
        "class Student:\n",
        "\tdef  __init__(self):  # default constructor\n",
        "\t\tprint(\"i am from constructor\")\n",
        "\t\tself.sno=10\n",
        "\t\tself.sname=\"lalit\"\n",
        "\t\tself.marks=45.66\n",
        "\n",
        "\n",
        "\n",
        "#main program\n",
        "s=Student()\n",
        "print(s)\n",
        "print(s.sno)\n",
        " # Object Creation-----PVM--calls Constructor Automatically / Implcitly for placing our own data                                                       data without leaving object empty\n",
        "#print(\"Content of s=\",s.__dict__)"
      ]
    },
    {
      "cell_type": "code",
      "execution_count": null,
      "metadata": {
        "id": "323yK1KrmALt",
        "colab": {
          "base_uri": "https://localhost:8080/"
        },
        "outputId": "9a314c6d-8b74-4fd0-b374-0cfc63f31ba0"
      },
      "outputs": [
        {
          "output_type": "stream",
          "name": "stdout",
          "text": [
            "<__main__.Fraction object at 0x796954d657e0>\n",
            "{'nume': '101', 'deno': 101}\n"
          ]
        }
      ],
      "source": [
        "class Fraction:\n",
        "\n",
        "  def __init__(self):\n",
        "    self.nume = \"101\"\n",
        "    self.deno = 101\n",
        "\n",
        "x=Fraction()\n",
        "print(x)\n",
        "x=x.__dict__\n",
        "print(x)"
      ]
    },
    {
      "cell_type": "code",
      "source": [
        "class Student11:\n",
        "\tdef  __init__(self): # # default constructor\n",
        "\t\tprint(\"i am from constructor\")\n",
        "\t\tself.sno=int(input(\"Enter Student Number:\"))\n",
        "\t\tself.sname=input(\"Enter Student Name:\")\n",
        "\t\tself.marks=float(input(\"Enter Student Marks:\"))\n",
        "\n",
        "#main program\n",
        "s=Student11() # Object Creation-----PVM--calls Constructor Automatically / Implcitly for placing our own data   data without leaving object empty\n",
        "print(\"Content of s=\",s.__dict__)"
      ],
      "metadata": {
        "colab": {
          "base_uri": "https://localhost:8080/"
        },
        "id": "sxay0eGmnBjD",
        "outputId": "26100447-2f7f-4236-cadf-f2aa372a00f5"
      },
      "execution_count": null,
      "outputs": [
        {
          "output_type": "stream",
          "name": "stdout",
          "text": [
            "i am from constructor\n",
            "Enter Student Number:101\n",
            "Enter Student Name:shivam\n",
            "Enter Student Marks:100\n",
            "Content of s= {'sno': 101, 'sname': 'shivam', 'marks': 100.0}\n"
          ]
        }
      ]
    },
    {
      "cell_type": "code",
      "source": [
        "class Student:\n",
        "\tdef  __init__(self,sno,sname): # parameterized constructor\n",
        "\t\tprint(\"i am from constructor\")\n",
        "\t\tself.sno=sno\n",
        "\t\tself.sname=sname\n",
        "\n",
        "\n",
        "#main program\n",
        "s1=Student(10,\"Rossum\") #object creation\n",
        "print(\"content of s1=\",s1.__dict__)\n",
        "s2=Student(20,\"Travis\") # Object creation\n",
        "print(\"content of s2=\",s2.__dict__)\n",
        "s3=Student(30,\"dennis\") # Object creation\n",
        "print(\"content of s2=\",s3.__dict__)"
      ],
      "metadata": {
        "colab": {
          "base_uri": "https://localhost:8080/"
        },
        "id": "krqUQiPvn6Xh",
        "outputId": "29f0fb04-0864-433b-c1eb-b208fa2bde8d"
      },
      "execution_count": null,
      "outputs": [
        {
          "output_type": "stream",
          "name": "stdout",
          "text": [
            "i am from constructor\n",
            "content of s1= {'sno': 10, 'sname': 'Rossum'}\n",
            "i am from constructor\n",
            "content of s2= {'sno': 20, 'sname': 'Travis'}\n",
            "i am from constructor\n",
            "content of s2= {'sno': 30, 'sname': 'dennis'}\n"
          ]
        }
      ]
    },
    {
      "cell_type": "code",
      "source": [
        "class Test:\n",
        "\tdef __init__(self):\n",
        "\t\tprint(\"i am from default constructor:\")\n",
        "\t\tself.a=10\n",
        "\t\tself.b=20\n",
        "\t\tprint(\"\\ta={}\\tb={}\".format(self.a,self.b))\n",
        "\n",
        "#main program\n",
        "t1=Test()# Object creation calls default constructor\n",
        "t2=Test()# Object creation calls default constructor\n",
        "t3=Test()# Object creation calls default constructor"
      ],
      "metadata": {
        "colab": {
          "base_uri": "https://localhost:8080/"
        },
        "id": "hbMbGQogBH9f",
        "outputId": "50825ffd-5ffd-4b67-90e4-ec778243b62d"
      },
      "execution_count": null,
      "outputs": [
        {
          "output_type": "stream",
          "name": "stdout",
          "text": [
            "i am from default constructor:\n",
            "\ta=10\tb=20\n",
            "i am from default constructor:\n",
            "\ta=10\tb=20\n",
            "i am from default constructor:\n",
            "\ta=10\tb=20\n"
          ]
        }
      ]
    },
    {
      "cell_type": "code",
      "source": [
        "class Test:\n",
        "\tdef __init__(self,k,v):\n",
        "\t\tprint(\"i am from Parametrized constructor:\")\n",
        "\t\tself.a=k\n",
        "\t\tself.b=v\n",
        "\t\tprint(\"\\ta={}\\tb={}\".format(self.a,self.b))\n",
        "\n",
        "#main program\n",
        "t1=Test(10,20)# Object creation calls Parametrized Constructor\n",
        "t2=Test(100,200)# Object creation calls Parametrized Constructor\n",
        "t3=Test(1000,2000)# Object creation calls Parametrized Constructor"
      ],
      "metadata": {
        "colab": {
          "base_uri": "https://localhost:8080/"
        },
        "id": "rAsI5hiPBZYp",
        "outputId": "3a34b38a-74b3-49e0-c237-050d4e5f1f2f"
      },
      "execution_count": null,
      "outputs": [
        {
          "output_type": "stream",
          "name": "stdout",
          "text": [
            "i am from Parametrized constructor:\n",
            "\ta=10\tb=20\n",
            "i am from Parametrized constructor:\n",
            "\ta=100\tb=200\n",
            "i am from Parametrized constructor:\n",
            "\ta=1000\tb=2000\n"
          ]
        }
      ]
    },
    {
      "cell_type": "code",
      "source": [
        "class Test:\n",
        "\tdef __init__(self,m=1,n=2): # default and parameterized\n",
        "\t\tprint(\"i am from default / Parametrized constructor:\")\n",
        "\t\tself.a=m\n",
        "\t\tself.b=n\n",
        "\t\tprint(\"\\ta={}\\tb={}\".format(self.a,self.b))\n",
        "\n",
        "#main program\n",
        "t1=Test()# Object creation calls default Constructor\n",
        "t2=Test(10,20)# Object creation calls Parametrized Constructor"
      ],
      "metadata": {
        "colab": {
          "base_uri": "https://localhost:8080/"
        },
        "id": "9OQyTiF4BlLB",
        "outputId": "8eaf619d-794a-408a-c426-1cf68cbdbb34"
      },
      "execution_count": null,
      "outputs": [
        {
          "output_type": "stream",
          "name": "stdout",
          "text": [
            "i am from default / Parametrized constructor:\n",
            "\ta=1\tb=2\n",
            "i am from default / Parametrized constructor:\n",
            "\ta=10\tb=20\n"
          ]
        }
      ]
    },
    {
      "cell_type": "code",
      "source": [
        "# example\n",
        "class customer:\n",
        "\n",
        "  def __init__(self,name,gender,addr):\n",
        "    self.name = name\n",
        "    self.gender = gender\n",
        "    self.add = addr\n",
        "\n",
        "  def print_address(self):\n",
        "    print(self.name,self.gender,self.add.city,self.add.state,self.add.pin)\n",
        "\n",
        "\n",
        "class address:\n",
        "\n",
        "  def __init__(self,city,state,pin):\n",
        "    self.city = city\n",
        "    self.state = state\n",
        "    self.pin = pin\n"
      ],
      "metadata": {
        "id": "lpnWQ4qyB3G3"
      },
      "execution_count": null,
      "outputs": []
    },
    {
      "cell_type": "code",
      "source": [
        "add1 = address('lucknow','UP',226023)\n",
        "c=customer('shivam','male',add1)\n",
        "c.print_address()"
      ],
      "metadata": {
        "colab": {
          "base_uri": "https://localhost:8080/"
        },
        "id": "G3mivARE7dxF",
        "outputId": "a37f49fc-c71a-4b6c-a042-d0f01b4333c2"
      },
      "execution_count": null,
      "outputs": [
        {
          "output_type": "stream",
          "name": "stdout",
          "text": [
            "shivam male lucknow UP 226023\n"
          ]
        }
      ]
    },
    {
      "cell_type": "code",
      "source": [
        "class car:\n",
        "\n",
        "  def __init__(self,cname,cprice,ccolor):\n",
        "    self.__cname = cname\n",
        "    self.__cprice = cprice\n",
        "    self.__ccolor = ccolor\n",
        "\n",
        "  def display_car_details(self):\n",
        "    print('My car name is {}'.format(self.__cname))\n",
        "    print('My car price is {}'.format(self.__cprice))\n",
        "    print('My car color is {}'.format(self.__ccolor))\n",
        "\n",
        "class emp:\n",
        "\n",
        "  def __init__(self , eid, ename, eaddr,car):\n",
        "    self.__eid = eid\n",
        "    self.__ename = ename\n",
        "    self.__eaddr = eaddr\n",
        "    self.obj_car = car\n",
        "\n",
        "  def display_emp_details(self):\n",
        "    print(\"My employee id is {}\".format(self.__eid))\n",
        "    print(\"My ename is {}\".format(self.__ename))\n",
        "    print(\"My employee address {}\".format(self.__eaddr))\n",
        "    print(\"Employee car details are {}\".format(self.obj_car.display_car_details()))\n",
        "\n",
        "\n",
        "c=car(\"Audi\",5000000,\"White\")\n",
        "\n",
        "e=emp(101,\"Shivam Mishra\",\"UP-Lucknow-226023\",c)\n",
        "e.display_emp_details()"
      ],
      "metadata": {
        "colab": {
          "base_uri": "https://localhost:8080/"
        },
        "id": "NqdkPTtOcsMo",
        "outputId": "63cd338c-c4ca-46f4-8c35-fd23a6e37793"
      },
      "execution_count": null,
      "outputs": [
        {
          "output_type": "stream",
          "name": "stdout",
          "text": [
            "My employee id is 101\n",
            "My ename is Shivam Mishra\n",
            "My employee address UP-Lucknow-226023\n",
            "My car name is Audi\n",
            "My car price is 5000000\n",
            "My car color is White\n",
            "Employee car details are None\n"
          ]
        }
      ]
    },
    {
      "cell_type": "code",
      "source": [
        "class employee:\n",
        "\n",
        "  def __init__(self,ename,gender,address):\n",
        "    self.__ename = ename\n",
        "    self.__gender = gender\n",
        "    self.__address = address\n",
        "\n",
        "\n",
        "  def display_info(self):\n",
        "    print(\"My name is {}\".format(self.__ename))\n",
        "    print(\"My gender is {}\".format(self.__gender))\n",
        "    print(\"My address is {}\".format(self.__address.display_add()))\n",
        "\n",
        "  def edit_profile(self,new_name,new_city,new_state,new_pin):\n",
        "    self.__ename = new_name\n",
        "    self.address.edit_address(new_state,new_city,new_pin)\n",
        "\n",
        "\n",
        "class address:\n",
        "\n",
        "  def __init__(self,state,city,pin):\n",
        "    self.__state = state\n",
        "    self.__city = city\n",
        "    self.__pin = pin\n",
        "\n",
        "  def display_add(self):\n",
        "    return self.__city, self.__state, self.__pin\n",
        "\n",
        "  def edit_address(self,new_state,new_city,new_pin):\n",
        "    self.__state = new_state\n",
        "    self.__city = new_city\n",
        "    self.__pin = new_pin"
      ],
      "metadata": {
        "id": "AgfJ-tAddbNH"
      },
      "execution_count": null,
      "outputs": []
    },
    {
      "cell_type": "code",
      "source": [
        "add = address(\"Uttar Pradesh\", \"Lucknow\",226023)\n",
        "a=employee(\"Shivam Mishra\",\"Male\",add)\n",
        "a.display_info()\n",
        "add.edit_address(\"Maharashtra\",\"Mumbai\",6022354)\n",
        "a.display_info()"
      ],
      "metadata": {
        "colab": {
          "base_uri": "https://localhost:8080/"
        },
        "id": "Vzfm2ebZdbKg",
        "outputId": "9234e091-8ede-43d6-81f9-d83e2f418a2c"
      },
      "execution_count": null,
      "outputs": [
        {
          "output_type": "stream",
          "name": "stdout",
          "text": [
            "My name is Shivam Mishra\n",
            "My gender is Male\n",
            "My address is ('Lucknow', 'Uttar Pradesh', 226023)\n",
            "My name is Shivam Mishra\n",
            "My gender is Male\n",
            "My address is ('Mumbai', 'Maharashtra', 6022354)\n"
          ]
        }
      ]
    },
    {
      "cell_type": "code",
      "source": [
        "class A:\n",
        "  def m4(self):\n",
        "    return 10\n",
        "\n",
        "class B(A):\n",
        "  def m1(self):\n",
        "    return 20\n",
        "  def m2(self):\n",
        "    return 40\n",
        "\n",
        "class C(B):\n",
        "  def m3(self):\n",
        "    return 30\n",
        "\n",
        "obj1 = A()\n",
        "obj2 = B()\n",
        "obj3 = C()\n",
        "\n",
        "print(obj1.m4() + obj2.m1() + obj2.m2() + obj3.m3())"
      ],
      "metadata": {
        "id": "N-81kAO6dbIa",
        "colab": {
          "base_uri": "https://localhost:8080/"
        },
        "outputId": "eeb85be0-b576-4d68-fd73-b645c35542af"
      },
      "execution_count": null,
      "outputs": [
        {
          "output_type": "stream",
          "name": "stdout",
          "text": [
            "100\n"
          ]
        }
      ]
    },
    {
      "cell_type": "code",
      "source": [
        "class A:\n",
        "\n",
        "    def m1(self):\n",
        "        return 20\n",
        "\n",
        "class B(A):\n",
        "\n",
        "    def m1(self):\n",
        "        val=super().m1()+30\n",
        "        return val\n",
        "\n",
        "class C(B):\n",
        "\n",
        "    def m1(self):\n",
        "        val=self.m1()+20\n",
        "        return val\n",
        "obj=C()\n",
        "print(obj.m1())"
      ],
      "metadata": {
        "id": "RTw9gRtLdbGF"
      },
      "execution_count": null,
      "outputs": []
    },
    {
      "cell_type": "code",
      "source": [
        "!pip install nlpcloud"
      ],
      "metadata": {
        "colab": {
          "base_uri": "https://localhost:8080/"
        },
        "id": "gbOQnpB6m_7P",
        "outputId": "36643c0b-af6b-4977-85d5-8bcb03bac1e4"
      },
      "execution_count": 59,
      "outputs": [
        {
          "output_type": "stream",
          "name": "stdout",
          "text": [
            "Collecting nlpcloud\n",
            "  Downloading nlpcloud-1.1.47-py3-none-any.whl.metadata (1.1 kB)\n",
            "Requirement already satisfied: requests in /usr/local/lib/python3.10/dist-packages (from nlpcloud) (2.32.3)\n",
            "Requirement already satisfied: charset-normalizer<4,>=2 in /usr/local/lib/python3.10/dist-packages (from requests->nlpcloud) (3.4.0)\n",
            "Requirement already satisfied: idna<4,>=2.5 in /usr/local/lib/python3.10/dist-packages (from requests->nlpcloud) (3.10)\n",
            "Requirement already satisfied: urllib3<3,>=1.21.1 in /usr/local/lib/python3.10/dist-packages (from requests->nlpcloud) (2.2.3)\n",
            "Requirement already satisfied: certifi>=2017.4.17 in /usr/local/lib/python3.10/dist-packages (from requests->nlpcloud) (2024.12.14)\n",
            "Downloading nlpcloud-1.1.47-py3-none-any.whl (3.9 kB)\n",
            "Installing collected packages: nlpcloud\n",
            "Successfully installed nlpcloud-1.1.47\n"
          ]
        }
      ]
    },
    {
      "cell_type": "code",
      "source": [
        "import nlpcloud\n",
        "\n",
        "class NLP:\n",
        "\n",
        "  def __init__(self):\n",
        "\n",
        "    self.__database = {}\n",
        "    self.__first_menu()\n",
        "\n",
        "  def __first_menu(self):\n",
        "\n",
        "    user_input = input(\"\"\"\n",
        "    Hi! how would you like to proceed?\n",
        "    1 Not a member? Register\n",
        "    2 Already a member? Log in\n",
        "    3 Want to exit?\n",
        "    \"\"\")\n",
        "\n",
        "    if user_input == '1':\n",
        "      self.__register()\n",
        "\n",
        "    elif user_input == '2':\n",
        "      self.__login()\n",
        "    else:\n",
        "      exit()\n",
        "\n",
        "  def __second_menu(self):\n",
        "    second_input = input(\"\"\"Hi would you like to proceed\n",
        "    1. NER\n",
        "    2. Sentiment Analysis\n",
        "    3. Language Detection\n",
        "    4. Check grammer\n",
        "    5. Exit\n",
        "    \"\"\")\n",
        "\n",
        "    if second_input == '1':\n",
        "      self.__NER()\n",
        "    elif second_input == '2':\n",
        "      self.__sentiment()\n",
        "    elif second_input == '3':\n",
        "      self.__language_detection()\n",
        "    elif second_input == '4':\n",
        "      self.__grammer()\n",
        "    else:\n",
        "      exit()\n",
        "\n",
        "\n",
        "  def __register(self):\n",
        "    name = input(\"Enter your name \")\n",
        "    email = input(\"Enter your email \")\n",
        "    password = input(\"Enter your password \")\n",
        "\n",
        "\n",
        "    if email in self.__database:\n",
        "      print(\"Email already exists, please try a different email\")\n",
        "      self.__register()\n",
        "    else:\n",
        "      self.__database[email] = [name,password]\n",
        "      print(\"Registration successful\")\n",
        "      self.__first_menu()\n",
        "\n",
        "  def __login(self):\n",
        "    email = input(\"Enter your email \")\n",
        "    password = input(\"Enter your password \")\n",
        "\n",
        "    if email in self.__database:\n",
        "      if self.__database[email][1] == password:\n",
        "        print(\"log in successful \")\n",
        "        self.__second_menu()\n",
        "      else:\n",
        "        print(\"Wrong password, try again\")\n",
        "        self.__login()\n",
        "    else:\n",
        "      print(\"This email is not registered \")\n",
        "      self.__first_menu()\n",
        "\n",
        "  def get_database(self):\n",
        "    return self.__database\n",
        "\n",
        "  def __sentiment(self):\n",
        "    sentence = input(\"Enter what you want to search sentiment for?\")\n",
        "\n",
        "    client = nlpcloud.Client(\"finetuned-llama-3-70b\", \"048bc4aab12c2a89f5cc56b37ba3e7ce5077ac39\", gpu=True)\n",
        "\n",
        "    response = client.sentiment(sentence)\n",
        "    print(response)\n",
        "\n",
        "    L=[]\n",
        "\n",
        "    for i in response['scored_labels']:\n",
        "      L.append(i['score'])\n",
        "    l1=sorted(list(enumerate(L)),key = lambda x:x[-1] , reverse = True)[0][0]\n",
        "\n",
        "    print(\"sentiments are: \", response['scored_labels'][l1]['label'])\n",
        "\n",
        "\n",
        "  def __NER(self):\n",
        "    pass\n",
        "  def __language_detection(self):\n",
        "    pass\n",
        "  def __grammer(self):\n",
        "\n",
        "    para = input(\"Take input from user and then deploy it to make sure it is gramatically correct\")\n",
        "\n",
        "    client = nlpcloud.Client(\"finetuned-llama-3-70b\", \"048bc4aab12c2a89f5cc56b37ba3e7ce5077ac39\", gpu=True)\n",
        "    response = client.gs_correction(para)\n",
        "\n",
        "    print(response)\n",
        "\n",
        "obj = NLP()\n",
        "\n"
      ],
      "metadata": {
        "id": "8VPe2_9ydbBc",
        "colab": {
          "base_uri": "https://localhost:8080/"
        },
        "outputId": "376dd8a2-2c2f-47e4-e1c5-0db1ef3f4e79"
      },
      "execution_count": 3,
      "outputs": [
        {
          "output_type": "stream",
          "name": "stdout",
          "text": [
            "\n",
            "    Hi! how would you like to proceed?\n",
            "    1 Not a member? Register\n",
            "    2 Already a member? Log in\n",
            "    3 Want to exit?\n",
            "    1\n",
            "Enter your name shivam\n",
            "Enter your email somu@gmail.com\n",
            "Enter your password 1234\n",
            "Registration successful\n",
            "\n",
            "    Hi! how would you like to proceed?\n",
            "    1 Not a member? Register\n",
            "    2 Already a member? Log in\n",
            "    3 Want to exit?\n",
            "    2\n",
            "Enter your email somu@gmail.com\n",
            "Enter your password 1234\n",
            "log in successful \n",
            "Hi would you like to proceed \n",
            "    1. NER\n",
            "    2. Sentiment Analysis\n",
            "    3. Language Detection\n",
            "    4. Check grammer\n",
            "    5. Exit\n",
            "    4\n",
            "Take input from user and then deploy it to make sure it is gramatically correctShe don't likes to play socceral anf I playble criket\n",
            "{'correction': \"She doesn't like to play soccer and I play cricket.\"}\n"
          ]
        }
      ]
    },
    {
      "cell_type": "code",
      "source": [
        "obj = NLP()\n",
        "obj.get_database()\n",
        "\n"
      ],
      "metadata": {
        "id": "4pYVNX4nda_C"
      },
      "execution_count": null,
      "outputs": []
    },
    {
      "cell_type": "code",
      "source": [
        "d = {'scored_labels': [{'label': 'sadness', 'score': 0.98093181848526}, {'label': 'joy', 'score': 0.001407247269526124}, {'label': 'love', 'score': 0.0004157320945523679}, {'label': 'anger', 'score': 0.01649504341185093}, {'label': 'fear', 'score': 0.00039679379551671445}, {'label': 'surprise', 'score': 0.00035347335506230593}]}"
      ],
      "metadata": {
        "id": "8PbqNWOFda1j"
      },
      "execution_count": 1,
      "outputs": []
    },
    {
      "cell_type": "code",
      "source": [
        "d"
      ],
      "metadata": {
        "id": "HLYBj9ewdasH",
        "colab": {
          "base_uri": "https://localhost:8080/"
        },
        "outputId": "ba23feae-5efc-4eb7-ddbe-75aa13ced9e2"
      },
      "execution_count": 2,
      "outputs": [
        {
          "output_type": "execute_result",
          "data": {
            "text/plain": [
              "{'scored_labels': [{'label': 'sadness', 'score': 0.98093181848526},\n",
              "  {'label': 'joy', 'score': 0.001407247269526124},\n",
              "  {'label': 'love', 'score': 0.0004157320945523679},\n",
              "  {'label': 'anger', 'score': 0.01649504341185093},\n",
              "  {'label': 'fear', 'score': 0.00039679379551671445},\n",
              "  {'label': 'surprise', 'score': 0.00035347335506230593}]}"
            ]
          },
          "metadata": {},
          "execution_count": 2
        }
      ]
    },
    {
      "cell_type": "code",
      "source": [
        "d['scored_labels']"
      ],
      "metadata": {
        "colab": {
          "base_uri": "https://localhost:8080/"
        },
        "id": "tGgiJ3CoexXQ",
        "outputId": "6022798a-b9fe-4e9f-d921-33b090e18604"
      },
      "execution_count": 44,
      "outputs": [
        {
          "output_type": "execute_result",
          "data": {
            "text/plain": [
              "[{'label': 'sadness', 'score': 0.98093181848526},\n",
              " {'label': 'joy', 'score': 0.001407247269526124},\n",
              " {'label': 'love', 'score': 0.0004157320945523679},\n",
              " {'label': 'anger', 'score': 0.01649504341185093},\n",
              " {'label': 'fear', 'score': 0.00039679379551671445},\n",
              " {'label': 'surprise', 'score': 0.00035347335506230593}]"
            ]
          },
          "metadata": {},
          "execution_count": 44
        }
      ]
    },
    {
      "cell_type": "code",
      "source": [
        "l=[]\n",
        "for i in d['scored_labels']:\n",
        "  l.append(i['score'])\n",
        "\n",
        "l1=sorted(list(enumerate(l)),key=lambda x:x[-1],reverse=True)[0][0]\n",
        "print(l1)\n",
        "#d['scored_labels'][l1]['label']"
      ],
      "metadata": {
        "colab": {
          "base_uri": "https://localhost:8080/"
        },
        "id": "xVJqespSfWUy",
        "outputId": "696a7649-83fa-48a1-a660-a3312d754b6a"
      },
      "execution_count": 55,
      "outputs": [
        {
          "output_type": "stream",
          "name": "stdout",
          "text": [
            "0\n"
          ]
        }
      ]
    },
    {
      "cell_type": "code",
      "source": [
        "l1=[(0, 0.98093181848526), (3, 0.01649504341185093), (1, 0.001407247269526124)]\n",
        "print(l1[0][0])"
      ],
      "metadata": {
        "colab": {
          "base_uri": "https://localhost:8080/"
        },
        "id": "9p570G3NiE2W",
        "outputId": "a470af03-fac4-4596-8865-d49b9c2c0e81"
      },
      "execution_count": 41,
      "outputs": [
        {
          "output_type": "stream",
          "name": "stdout",
          "text": [
            "0\n"
          ]
        }
      ]
    },
    {
      "cell_type": "code",
      "source": [
        "f=[{'label': 'sadness', 'score': 0.98093181848526}, {'label': 'joy', 'score': 0.001407247269526124}, {'label': 'love', 'score': 0.0004157320945523679}, {'label': 'anger', 'score': 0.01649504341185093}, {'label': 'fear', 'score': 0.00039679379551671445}, {'label': 'surprise', 'score': 0.00035347335506230593}]\n",
        "\n",
        "f[0]"
      ],
      "metadata": {
        "colab": {
          "base_uri": "https://localhost:8080/"
        },
        "id": "fFltmbxujMhe",
        "outputId": "95c48fbd-5c4b-44b0-f437-3bfa97929f29"
      },
      "execution_count": 52,
      "outputs": [
        {
          "output_type": "execute_result",
          "data": {
            "text/plain": [
              "{'label': 'sadness', 'score': 0.98093181848526}"
            ]
          },
          "metadata": {},
          "execution_count": 52
        }
      ]
    },
    {
      "cell_type": "code",
      "source": [],
      "metadata": {
        "id": "dbwrhsdgkj55"
      },
      "execution_count": null,
      "outputs": []
    }
  ],
  "metadata": {
    "colab": {
      "provenance": [],
      "authorship_tag": "ABX9TyPVCJ6KF2pJgasTdHdGAf/t",
      "include_colab_link": true
    },
    "kernelspec": {
      "display_name": "Python 3",
      "name": "python3"
    },
    "language_info": {
      "name": "python"
    }
  },
  "nbformat": 4,
  "nbformat_minor": 0
}