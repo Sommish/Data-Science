{
  "nbformat": 4,
  "nbformat_minor": 0,
  "metadata": {
    "colab": {
      "provenance": [],
      "include_colab_link": true
    },
    "kernelspec": {
      "name": "python3",
      "display_name": "Python 3"
    },
    "language_info": {
      "name": "python"
    }
  },
  "cells": [
    {
      "cell_type": "markdown",
      "metadata": {
        "id": "view-in-github",
        "colab_type": "text"
      },
      "source": [
        "<a href=\"https://colab.research.google.com/github/Sommish/Data-Science/blob/main/Shivam_Task_1_assignment_tasks.ipynb\" target=\"_parent\"><img src=\"https://colab.research.google.com/assets/colab-badge.svg\" alt=\"Open In Colab\"/></a>"
      ]
    },
    {
      "cell_type": "markdown",
      "source": [
        "# Task : Session 1\n",
        "Solve these questions own your own and try to test yourself what you have learned in the session.\n",
        "\n",
        "Happy Learning!"
      ],
      "metadata": {
        "id": "A05OG15VqOPF"
      }
    },
    {
      "cell_type": "markdown",
      "source": [
        "### Q1 :- Print the given strings as per stated format.\n",
        "\n",
        "**Given strings**:\n",
        "```\n",
        "\"Data\" \"Science\" \"Mentorship\" \"Program\"\n",
        "\"By\" \"CampusX\"\n",
        "```\n",
        "**Output**:\n",
        "```\n",
        "Data-Science-Mentorship-Program-started-By-CampusX\n",
        "```\n",
        "\n",
        "Concept- [Seperator and End]"
      ],
      "metadata": {
        "id": "2doIXf8bqe9_"
      }
    },
    {
      "cell_type": "code",
      "source": [
        "# Write your code here\n",
        "print(\"Data\" ,\"Science\" ,\"Mentorship\" ,\"Program\" ,sep='-', end='')\n",
        "print(\"By\" ,\"CampusX\",sep='-')"
      ],
      "metadata": {
        "id": "-em6d3KErDtp",
        "colab": {
          "base_uri": "https://localhost:8080/"
        },
        "outputId": "097ba596-8e9b-42ba-9296-da54e707cb02"
      },
      "execution_count": 2,
      "outputs": [
        {
          "output_type": "stream",
          "name": "stdout",
          "text": [
            "Data-Science-Mentorship-ProgramBy-CampusX\n"
          ]
        }
      ]
    },
    {
      "cell_type": "markdown",
      "source": [
        "### Q2:- Write a program that will convert celsius value to fahrenheit."
      ],
      "metadata": {
        "id": "1KUpN7ZTrC3_"
      }
    },
    {
      "cell_type": "code",
      "source": [
        "# Write your code here\n",
        "celci = float(input(\"Enter temp in celcius \"))\n",
        "fah = (9/5)*celci + 32\n",
        "print(fah,'fah',type(fah))"
      ],
      "metadata": {
        "id": "yxKYhYQiqWfj"
      },
      "execution_count": null,
      "outputs": []
    },
    {
      "cell_type": "markdown",
      "source": [
        "### Q3:- Take 2 numbers as input from the user.Write a program to swap the numbers without using any special python syntax."
      ],
      "metadata": {
        "id": "RLrOBBJurLB2"
      }
    },
    {
      "cell_type": "code",
      "source": [
        "# Write your code here\n",
        "a=2\n",
        "b=4\n",
        "temp=a\n",
        "a=b\n",
        "b=temp\n",
        "print('a = ',a,'\\n','b = ',b)"
      ],
      "metadata": {
        "id": "yPn7if0TrJ4F",
        "colab": {
          "base_uri": "https://localhost:8080/"
        },
        "outputId": "49a4a134-18fc-4ed2-bb77-cd9177768025"
      },
      "execution_count": 5,
      "outputs": [
        {
          "output_type": "stream",
          "name": "stdout",
          "text": [
            "a =  4 \n",
            " b =  2\n"
          ]
        }
      ]
    },
    {
      "cell_type": "markdown",
      "source": [
        "### Q4:- Write a program to find the euclidean distance between two coordinates.Take both the coordinates from the user as input."
      ],
      "metadata": {
        "id": "waLCP1bjr7ML"
      }
    },
    {
      "cell_type": "code",
      "source": [
        "# Write your code here\n",
        "x1=int(input(\"Enter first number of first co-ordinate \"))\n",
        "y1=int(input(\"Enter second number of first co-ordinate \"))\n",
        "x2=int(input(\"Enter first number of second co-ordinate \"))\n",
        "y2=int(input(\"Enter second number of second co-ordinate \"))\n",
        "formula =  ((x2-x1)**2 + (y2-y1)**2 )**0.5\n",
        "print('Euclidian number for ', 'x1 =',x1,', x2 =',x2,', y1 =',y1,', y2 =',y2, '\\n', '\\b result =' ,round(formula,2))"
      ],
      "metadata": {
        "id": "Pl1Sv-xnrxnH",
        "colab": {
          "base_uri": "https://localhost:8080/"
        },
        "outputId": "b8916751-f5c7-4e4c-fd94-97a042bb4c0a"
      },
      "execution_count": 6,
      "outputs": [
        {
          "output_type": "stream",
          "name": "stdout",
          "text": [
            "Enter first number of first co-ordinate 12\n",
            "Enter second number of first co-ordinate 13\n",
            "Enter first number of second co-ordinate 20\n",
            "Enter second number of second co-ordinate 22\n",
            "Euclidian number for  x1 = 12 , x2 = 20 , y1 = 13 , y2 = 22 \n",
            " \b result = 12.04\n"
          ]
        }
      ]
    },
    {
      "cell_type": "markdown",
      "source": [
        "### Q5:- Write a program to find the simple interest when the value of principle,rate of interest and time period is provided by the user.\n"
      ],
      "metadata": {
        "id": "VLrhg-FRsHjR"
      }
    },
    {
      "cell_type": "code",
      "source": [
        "# Write your code here\n",
        "principle = float(input('Enter a principle amount '))\n",
        "rate = float(input('Enter a rate '))\n",
        "time = float(input('Enter a time in years '))\n",
        "simple = principle * rate * time /100\n",
        "print('simple interest = ',simple)"
      ],
      "metadata": {
        "id": "s40DlReZsTmY",
        "colab": {
          "base_uri": "https://localhost:8080/"
        },
        "outputId": "c61b0597-8d1b-4fdb-dff5-208276ae15ad"
      },
      "execution_count": 7,
      "outputs": [
        {
          "output_type": "stream",
          "name": "stdout",
          "text": [
            "Enter a principle amount 10000\n",
            "Enter a rate 20\n",
            "Enter a time in years 3\n",
            "simple interest =  6000.0\n"
          ]
        }
      ]
    },
    {
      "cell_type": "markdown",
      "source": [
        "### Q6:- Write a program that will tell the number of dogs and chicken are there when the user will provide the value of total heads and legs.\n",
        "\n",
        "For example:\n",
        "Input:\n",
        "heads -> 4\n",
        "legs -> 12\n",
        "<br>\n",
        "Output:\n",
        "dogs -> 2\n",
        "chicken -> 2\n",
        "\n",
        "\n",
        "\n"
      ],
      "metadata": {
        "id": "LMy0BTUktYKa"
      }
    },
    {
      "cell_type": "code",
      "source": [
        "# Write your code here\n",
        "heads=int(input(\"Enter total num of heads \"))\n",
        "legs=int(input(\"enter total num of legs \"))\n",
        "if heads<=legs:\n",
        "  c = 2*heads - (legs/2)\n",
        "  print(\"Number of dogs : \",int(c))\n",
        "  d = heads - c\n",
        "  print(\"Number of chickens : \",int(d))\n"
      ],
      "metadata": {
        "id": "XSBvJoA4tXaG",
        "colab": {
          "base_uri": "https://localhost:8080/"
        },
        "outputId": "fbfc9a0c-34ce-4d92-f4d2-a8c59f21021e"
      },
      "execution_count": 13,
      "outputs": [
        {
          "output_type": "stream",
          "name": "stdout",
          "text": [
            "Enter total num of heads 75\n",
            "enter total num of legs 181\n",
            "Number of dogs :  59\n",
            "Number of chickens :  15\n"
          ]
        }
      ]
    },
    {
      "cell_type": "markdown",
      "source": [
        "1### Q7:- Write a program to find the sum of squares of first n natural numbers where n will be provided by the user."
      ],
      "metadata": {
        "id": "gJ7C5kZYt4BP"
      }
    },
    {
      "cell_type": "code",
      "source": [
        "# Write your code here\n",
        "num=int(input(\"Enter a number \"))\n",
        "for i in range(1,num+1):\n",
        "  d=i*i\n",
        "  print(d,end=' ')"
      ],
      "metadata": {
        "id": "_tHsmEHzt2nX",
        "colab": {
          "base_uri": "https://localhost:8080/"
        },
        "outputId": "9deef888-5894-4ba3-bf46-2ea0d878e94f"
      },
      "execution_count": 15,
      "outputs": [
        {
          "output_type": "stream",
          "name": "stdout",
          "text": [
            "Enter a number 10\n",
            "1 4 9 16 25 36 49 64 81 100 "
          ]
        }
      ]
    },
    {
      "cell_type": "markdown",
      "source": [
        "### Q8:- Given the first 2 terms of an Arithmetic Series.Find the Nth term of the series. Assume all inputs are provided by the user."
      ],
      "metadata": {
        "id": "FHrMM7g-yG1h"
      }
    },
    {
      "cell_type": "code",
      "source": [
        "# Write your code here use formula TN = a1 + (N-1) * d\n",
        "a1= int(input(\"Enter the first term of the series : \"))\n",
        "a2= int(input(\"Enter the second term of the series : \"))\n",
        "N = int(input(\"Enter the Nth term of the series: \"))\n",
        "\n",
        "Tn = a1 + (N-1) * abs(a1-a2)\n",
        "print(Tn)"
      ],
      "metadata": {
        "id": "go4_kmZmyVSx",
        "colab": {
          "base_uri": "https://localhost:8080/"
        },
        "outputId": "e8ce1991-d009-4324-dd97-252666762af7"
      },
      "execution_count": 17,
      "outputs": [
        {
          "output_type": "stream",
          "name": "stdout",
          "text": [
            "Enter the first term of the series : 2\n",
            "Enter the second term of the series : 3\n",
            "Enter the Nth term of the series: 5\n",
            "6\n"
          ]
        }
      ]
    },
    {
      "cell_type": "markdown",
      "source": [
        "### Q9:- Given 2 fractions, find the sum of those 2 fractions.Take the numerator and denominator values of the fractions from the user."
      ],
      "metadata": {
        "id": "QgyRX_es1oum"
      }
    },
    {
      "cell_type": "code",
      "source": [
        "# Write your code here\n",
        "n1=int(input(\"enter the numerator value for 1st fraction:  \"))\n",
        "d1=int(input(\"Enter the denominator value for 1st fraction: \"))\n",
        "n2=int(input(\"Enter the numerator value for 2nd fraction: \"))\n",
        "d2=int(input(\"Enter the denominator value for 2nd fraction: \"))\n",
        "print(round((n1/d1)+(n2/d2),2))"
      ],
      "metadata": {
        "id": "X05xqFS1yW16",
        "colab": {
          "base_uri": "https://localhost:8080/"
        },
        "outputId": "96d24d5b-981a-4675-b73e-b41f99a74f33"
      },
      "execution_count": 23,
      "outputs": [
        {
          "output_type": "stream",
          "name": "stdout",
          "text": [
            "enter the numerator value for 1st fraction:  2\n",
            "Enter the denominator value for 1st fraction: 5\n",
            "Enter the numerator value for 2nd fraction: 6\n",
            "Enter the denominator value for 2nd fraction: 7\n",
            "1.26\n"
          ]
        }
      ]
    },
    {
      "cell_type": "markdown",
      "source": [
        "### Q10:- Given the height, width and breadth of a milk tank, you have to find out how many glasses of milk can be obtained? Assume all the inputs are provided by the user.\n",
        "\n",
        "\n",
        "\n",
        "Input:<br>\n",
        "Dimensions of the milk tank<br>\n",
        "H = 20cm, L = 20cm, B = 20cm\n",
        "<br><br>\n",
        "Dimensions of the glass<br>\n",
        "h = 3cm, r = 1cm"
      ],
      "metadata": {
        "id": "eaql38ln13u7"
      }
    },
    {
      "cell_type": "code",
      "source": [
        "# Write your code here\n",
        "# Tank dimensions are follows :- NOTE :- All dimensions are in 'cm'\n",
        "H=20\n",
        "L=20\n",
        "B=20\n",
        "Tank_Vol = H*B*L\n",
        "print(Tank_Vol)\n",
        "# Glass dimensions as follows :- All dimensions are in 'cm'\n",
        "pi=3.14\n",
        "h=3\n",
        "r=1\n",
        "Glass_Vol = pi*r**2*h\n",
        "print(Glass_Vol)\n",
        "\n",
        "# no of glasses obtained :-\n",
        "print(\"no of glasses can be obtained from tank milk : \", round(Tank_Vol/Glass_Vol))"
      ],
      "metadata": {
        "id": "FePZqno74eWv",
        "colab": {
          "base_uri": "https://localhost:8080/"
        },
        "outputId": "4481a01e-97f4-4ddb-849c-a4c766df5f9b"
      },
      "execution_count": 27,
      "outputs": [
        {
          "output_type": "stream",
          "name": "stdout",
          "text": [
            "8000\n",
            "9.42\n",
            "no of glasses can be obtained from tank milk :  849\n"
          ]
        }
      ]
    }
  ]
}