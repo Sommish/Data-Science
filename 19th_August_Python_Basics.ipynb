{
 "cells": [
  {
   "cell_type": "code",
   "execution_count": null,
   "id": "3593765f-cf03-4cce-b7a0-32868576fa67",
   "metadata": {},
   "outputs": [],
   "source": [
    "# Ques->1 - Declare two variables, `x` and `y`, and assign them integer values. Swap the\n",
    "# values of these variables without using any temporary variable."
   ]
  },
  {
   "cell_type": "code",
   "execution_count": 1,
   "id": "68348ee7-8dd5-47dd-8286-c9d6e199613f",
   "metadata": {},
   "outputs": [
    {
     "name": "stdout",
     "output_type": "stream",
     "text": [
      "x =  10 y =  20\n",
      "x =  20 y =  10\n"
     ]
    }
   ],
   "source": [
    "x=10\n",
    "y=20\n",
    "print('x = ',x,'y = ',y)\n",
    "# sawpping the values of x & y without using a temporary variable\n",
    "x,y=20,10\n",
    "print('x = ',x,'y = ',y)"
   ]
  },
  {
   "cell_type": "code",
   "execution_count": null,
   "id": "86f1b090-7379-42fe-b4cf-fb6780c7ad68",
   "metadata": {},
   "outputs": [],
   "source": [
    "# Ques->2 Create a program that calculates the area of a rectangle. Take the length and\n",
    "# width as inputs from the user and store them in variables. Calculate and\n",
    "# display the area."
   ]
  },
  {
   "cell_type": "code",
   "execution_count": 14,
   "id": "712d3acc-0709-4ce5-8ed9-0a56c7852e38",
   "metadata": {},
   "outputs": [
    {
     "name": "stdin",
     "output_type": "stream",
     "text": [
      "Enter a length of rectangle 39.3\n",
      "Enter a width of rectangle 43.5\n"
     ]
    },
    {
     "name": "stdout",
     "output_type": "stream",
     "text": [
      "area of rectangle =  1709.55 units\n",
      "Area of rectangle with {l} 39.3\n"
     ]
    }
   ],
   "source": [
    "l=float(input(\"Enter a length of rectangle\"))\n",
    "b=float(input(\"Enter a width of rectangle\"))\n",
    "area=l*b\n",
    "print('area of rectangle = ',round(area,2),'units')"
   ]
  },
  {
   "cell_type": "code",
   "execution_count": null,
   "id": "62cb19b2-ff27-4ed1-b03c-c26d2703efaa",
   "metadata": {},
   "outputs": [],
   "source": [
    "# Ques->3 Write a Python program that converts temperatures from Celsius to\n",
    "#Fahrenheit. Take the temperature in Celsius as input, store it in a variable,\n",
    "#convert it to Fahrenheit, and display the result."
   ]
  },
  {
   "cell_type": "code",
   "execution_count": 21,
   "id": "4b583502-33be-472d-beaa-076c5fe2e265",
   "metadata": {},
   "outputs": [
    {
     "name": "stdin",
     "output_type": "stream",
     "text": [
      "Enter a temperature in celsius 30\n"
     ]
    },
    {
     "name": "stdout",
     "output_type": "stream",
     "text": [
      "Fahrenheit temp. equivalent of celsius is 86.0\n"
     ]
    }
   ],
   "source": [
    "Celsius = float(input(\"Enter a temperature in celsius\"))\n",
    "\n",
    "# converting celsius degree to fahrenheit\n",
    "fahrenheit = (Celsius * 9/5)+32\n",
    "print(\"Fahrenheit temp. equivalent of celsius is\",round(fahrenheit,2))"
   ]
  },
  {
   "cell_type": "code",
   "execution_count": null,
   "id": "29312592-58da-4e07-bbe6-baaaa27c4446",
   "metadata": {},
   "outputs": [],
   "source": [
    "# Ques->4 Write a Python program that takes a string as input and prints the length of the string."
   ]
  },
  {
   "cell_type": "code",
   "execution_count": 26,
   "id": "e132cf19-b4c8-41a6-836a-1730a61dd2af",
   "metadata": {},
   "outputs": [
    {
     "name": "stdin",
     "output_type": "stream",
     "text": [
      "Enter a sample string  shivam mishra\n"
     ]
    },
    {
     "name": "stdout",
     "output_type": "stream",
     "text": [
      "Length of sample_str is: 13\n"
     ]
    }
   ],
   "source": [
    "sample_str = input(\"Enter a sample string \")\n",
    "print('Length of sample_str is:',len(sample_str))"
   ]
  },
  {
   "cell_type": "code",
   "execution_count": null,
   "id": "f3e52ed6-3cf9-4572-9872-33adaeb61205",
   "metadata": {},
   "outputs": [],
   "source": [
    "# Ques->5 Create a program that takes a sentence from the user and counts the number of vowels (a, e, i, o, u) in the string."
   ]
  },
  {
   "cell_type": "code",
   "execution_count": 33,
   "id": "e77775d7-4829-4c84-aca5-8abfe1858d04",
   "metadata": {},
   "outputs": [
    {
     "name": "stdin",
     "output_type": "stream",
     "text": [
      "Enter a sample sentence  shivam is a good boy and he plays basketball really well\n"
     ]
    },
    {
     "name": "stdout",
     "output_type": "stream",
     "text": [
      "Number of vowels in sample_sent is: 16\n"
     ]
    }
   ],
   "source": [
    "sample_sent = input(\"Enter a sample sentence \")\n",
    "count=0\n",
    "for i in (sample_sent):  \n",
    "    if i in ('a','e','i','o','u'):\n",
    "        count+=1\n",
    "print('Number of vowels in sample_sent is:' ,count)"
   ]
  },
  {
   "cell_type": "code",
   "execution_count": null,
   "id": "a6355b9c-31f1-47d8-a343-bee84d522c80",
   "metadata": {},
   "outputs": [],
   "source": [
    "# Ques->6 Given a string, reverse the order of characters using string slicing and print\n",
    "# the reversed string."
   ]
  },
  {
   "cell_type": "code",
   "execution_count": 42,
   "id": "4042c89e-2b4b-48a9-93d6-a9c82fcceb9d",
   "metadata": {},
   "outputs": [
    {
     "name": "stdin",
     "output_type": "stream",
     "text": [
      "Enter a random string of your choice racecar\n"
     ]
    },
    {
     "name": "stdout",
     "output_type": "stream",
     "text": [
      "Actual string : racecar\n",
      "yay\n",
      "Reversed string : racecar\n"
     ]
    }
   ],
   "source": [
    "sample_str1 = input(\"Enter a random string of your choice\")\n",
    "print(\"Actual string :\",sample_str1)\n",
    "reverse = sample_str1[::-1]\n",
    "print(\"Reversed string :\",reverse)"
   ]
  },
  {
   "cell_type": "code",
   "execution_count": null,
   "id": "5b5a105d-52dc-450e-ac70-72415518aa97",
   "metadata": {},
   "outputs": [],
   "source": [
    "# Ques->7 Write a program that takes a string as input and checks if it is a palindrome(reads the same forwards and backwards)."
   ]
  },
  {
   "cell_type": "code",
   "execution_count": 44,
   "id": "5ec5c6d4-1b1c-4b3e-8841-9099898769e7",
   "metadata": {},
   "outputs": [
    {
     "name": "stdin",
     "output_type": "stream",
     "text": [
      "Enter a string of your choice racecar\n"
     ]
    },
    {
     "name": "stdout",
     "output_type": "stream",
     "text": [
      "Actual string  racecar\n",
      "It is a Palindrome string\n"
     ]
    }
   ],
   "source": [
    "str_inp = input(\"Enter a string of your choice\")\n",
    "print(\"Actual string \",str_inp)\n",
    "rev = str_inp[::-1] \n",
    "if rev == str_inp:\n",
    "    print(\"It is a Palindrome string\")\n",
    "else:\n",
    "    print(\"Not a palindrome string\")"
   ]
  },
  {
   "cell_type": "code",
   "execution_count": null,
   "id": "a0e73adc-a523-47ef-b67b-1a3460788c1b",
   "metadata": {},
   "outputs": [],
   "source": [
    "# Ques->8 Create a program that takes a string as input and removes all the spaces from it. Print the\n",
    "# modified string without spaces."
   ]
  },
  {
   "cell_type": "code",
   "execution_count": 45,
   "id": "c0054d27-1f59-4e6a-934d-d6df5d5f2e5d",
   "metadata": {},
   "outputs": [
    {
     "name": "stdin",
     "output_type": "stream",
     "text": [
      "Enter a string value  shivam mishra is a good boy\n"
     ]
    },
    {
     "name": "stdout",
     "output_type": "stream",
     "text": [
      "shivammishraisagoodboy\n"
     ]
    }
   ],
   "source": [
    "s = input(\"Enter a string value \")\n",
    "s = s.replace(' ','')\n",
    "print(s)"
   ]
  },
  {
   "cell_type": "code",
   "execution_count": null,
   "id": "dbab945f-3373-45b7-9119-7389660c8d4c",
   "metadata": {},
   "outputs": [],
   "source": []
  },
  {
   "cell_type": "code",
   "execution_count": null,
   "id": "a241c2b5-1337-4cd8-89bd-3fc6610d8340",
   "metadata": {},
   "outputs": [],
   "source": []
  },
  {
   "cell_type": "code",
   "execution_count": null,
   "id": "f67759d1-b1e8-48d3-afff-6c447e2586d0",
   "metadata": {},
   "outputs": [],
   "source": []
  },
  {
   "cell_type": "code",
   "execution_count": null,
   "id": "da0e4eba-e02e-446b-aaaf-c6ab8d2453b5",
   "metadata": {},
   "outputs": [],
   "source": []
  },
  {
   "cell_type": "code",
   "execution_count": null,
   "id": "19644305-d407-41f9-b5e9-28ce12b6922d",
   "metadata": {},
   "outputs": [],
   "source": []
  },
  {
   "cell_type": "code",
   "execution_count": null,
   "id": "7dd63a78-8937-4d55-979f-55b2807d3866",
   "metadata": {},
   "outputs": [],
   "source": []
  },
  {
   "cell_type": "code",
   "execution_count": null,
   "id": "4bacc55b-e36c-401e-b9a1-00ced9631382",
   "metadata": {},
   "outputs": [],
   "source": []
  },
  {
   "cell_type": "code",
   "execution_count": null,
   "id": "2e59c41b-c773-4bb5-8739-14cfbf0bee2a",
   "metadata": {},
   "outputs": [],
   "source": []
  },
  {
   "cell_type": "code",
   "execution_count": null,
   "id": "e31489d6-fa70-413e-9e2c-950f930da2a3",
   "metadata": {},
   "outputs": [],
   "source": []
  },
  {
   "cell_type": "code",
   "execution_count": null,
   "id": "8edf3ff7-2195-49ef-8d21-ac2b8f90ca85",
   "metadata": {},
   "outputs": [],
   "source": []
  },
  {
   "cell_type": "code",
   "execution_count": null,
   "id": "2863c574-8cd1-4cec-97e1-01f43e8ed18f",
   "metadata": {},
   "outputs": [],
   "source": []
  },
  {
   "cell_type": "code",
   "execution_count": null,
   "id": "35d888a4-620e-4d6c-a9c5-f1d6a2e3a325",
   "metadata": {},
   "outputs": [],
   "source": []
  },
  {
   "cell_type": "code",
   "execution_count": null,
   "id": "5d4bbda6-a9f5-4f53-a96a-10bc2cf60d6e",
   "metadata": {},
   "outputs": [],
   "source": []
  },
  {
   "cell_type": "code",
   "execution_count": null,
   "id": "69118212-9561-4a82-8171-52d9127a891b",
   "metadata": {},
   "outputs": [],
   "source": []
  },
  {
   "cell_type": "code",
   "execution_count": null,
   "id": "bc2352cb-ad68-464f-9e37-cb47cde10b98",
   "metadata": {},
   "outputs": [],
   "source": []
  },
  {
   "cell_type": "code",
   "execution_count": null,
   "id": "74b8f9bf-cf3c-4ddb-abc5-b2ade6a06863",
   "metadata": {},
   "outputs": [],
   "source": []
  },
  {
   "cell_type": "code",
   "execution_count": null,
   "id": "34edc932-49e9-49eb-89e5-7248e70d27fe",
   "metadata": {},
   "outputs": [],
   "source": []
  },
  {
   "cell_type": "code",
   "execution_count": null,
   "id": "599f5b5b-8c22-4c71-91f9-fde0031d2093",
   "metadata": {},
   "outputs": [],
   "source": []
  },
  {
   "cell_type": "code",
   "execution_count": null,
   "id": "0dfcae27-b18b-4062-9f69-fb8c32f277d6",
   "metadata": {},
   "outputs": [],
   "source": []
  },
  {
   "cell_type": "code",
   "execution_count": null,
   "id": "515c6dc2-1ce6-496c-a2fc-f309f149d1bc",
   "metadata": {},
   "outputs": [],
   "source": []
  },
  {
   "cell_type": "code",
   "execution_count": null,
   "id": "a2d6bba2-a11e-420d-850f-d0bef9499b15",
   "metadata": {},
   "outputs": [],
   "source": []
  },
  {
   "cell_type": "code",
   "execution_count": null,
   "id": "bd6f67ab-c65c-4228-b47e-1c3e1a2ce180",
   "metadata": {},
   "outputs": [],
   "source": []
  },
  {
   "cell_type": "code",
   "execution_count": null,
   "id": "d7e3d426-7dac-4738-bce4-275cbde9c378",
   "metadata": {},
   "outputs": [],
   "source": []
  },
  {
   "cell_type": "code",
   "execution_count": null,
   "id": "953b2c18-0281-4b39-a08e-316258caf7c7",
   "metadata": {},
   "outputs": [],
   "source": []
  },
  {
   "cell_type": "code",
   "execution_count": null,
   "id": "181ef596-9fc9-45b7-9ecb-8c9dbfc3dd49",
   "metadata": {},
   "outputs": [],
   "source": []
  },
  {
   "cell_type": "code",
   "execution_count": null,
   "id": "5e11cef4-9c0d-41b6-ba4c-4e174f6fa047",
   "metadata": {},
   "outputs": [],
   "source": []
  },
  {
   "cell_type": "code",
   "execution_count": null,
   "id": "9073ab59-e6b6-4101-ba64-f63c1a8e8faf",
   "metadata": {},
   "outputs": [],
   "source": []
  },
  {
   "cell_type": "code",
   "execution_count": null,
   "id": "1af61748-1ebe-4aa4-9025-9bfb351d3679",
   "metadata": {},
   "outputs": [],
   "source": []
  },
  {
   "cell_type": "code",
   "execution_count": null,
   "id": "2b46ade3-329f-4900-b1df-5740d4346aa3",
   "metadata": {},
   "outputs": [],
   "source": []
  }
 ],
 "metadata": {
  "kernelspec": {
   "display_name": "Python 3 (ipykernel)",
   "language": "python",
   "name": "python3"
  },
  "language_info": {
   "codemirror_mode": {
    "name": "ipython",
    "version": 3
   },
   "file_extension": ".py",
   "mimetype": "text/x-python",
   "name": "python",
   "nbconvert_exporter": "python",
   "pygments_lexer": "ipython3",
   "version": "3.9.13"
  }
 },
 "nbformat": 4,
 "nbformat_minor": 5
}
