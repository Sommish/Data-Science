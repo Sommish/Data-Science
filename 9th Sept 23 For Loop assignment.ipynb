{
 "cells": [
  {
   "cell_type": "code",
   "execution_count": null,
   "id": "9460bd57-6cd3-4cec-8269-6df0ea140876",
   "metadata": {},
   "outputs": [],
   "source": [
    "'''Basic Level:\n",
    "\n",
    "1. Write a Python program to print the numbers from 1 to 10 using a `for` loop.\n",
    "\n",
    "2. Create a program that calculates the sum of all numbers in a list using a `for` loop.\n",
    "\n",
    "3. Write a program to print the characters of a string in reverse order using a `for` loop.\n",
    "\n",
    "4. Develop a program that finds the factorial of a given number using a `for` loop.\n",
    "\n",
    "5. Create a program to print the multiplication table of a given number using a `for` loop.\n",
    "\n",
    "6. Write a program that counts the number of even and odd numbers in a list using a `for` loop.\n",
    " 7. Develop a program that prints the squares of numbers from 1 to 5 using a `for` loop.\n",
    "\n",
    "8. Create a program to find the length of a string without using the `len()` function.\n",
    "\n",
    "9. Write a program that calculates the average of a list of numbers using a `for` loop.\n",
    "\n",
    "10. Develop a program that prints the first `n` Fibonacci numbers using a `for` loop.'''\n"
   ]
  },
  {
   "cell_type": "code",
   "execution_count": 1,
   "id": "abae34ac-e42b-4c92-a7f7-2a812fd4f46c",
   "metadata": {},
   "outputs": [],
   "source": [
    "# 1. Write a Python program to print the numbers from 1 to 10 using a `for` loop."
   ]
  },
  {
   "cell_type": "code",
   "execution_count": 2,
   "id": "f0aed5c0-d1b2-46d7-aac3-41a6bce7ac15",
   "metadata": {},
   "outputs": [
    {
     "name": "stdout",
     "output_type": "stream",
     "text": [
      "1\n",
      "2\n",
      "3\n",
      "4\n",
      "5\n",
      "6\n",
      "7\n",
      "8\n",
      "9\n",
      "10\n"
     ]
    }
   ],
   "source": [
    "for i in range (1,11):\n",
    "    print(i)"
   ]
  },
  {
   "cell_type": "code",
   "execution_count": 3,
   "id": "93b70f58-6cf1-4104-a1ba-151c9cec632a",
   "metadata": {},
   "outputs": [],
   "source": [
    "# Create a program that calculates the sum of all numbers in a list using a `for` loop."
   ]
  },
  {
   "cell_type": "code",
   "execution_count": 6,
   "id": "d4765a74-bb16-45e0-a138-c77723b8c096",
   "metadata": {},
   "outputs": [
    {
     "name": "stdout",
     "output_type": "stream",
     "text": [
      "Sum of all numbers 15\n"
     ]
    }
   ],
   "source": [
    "l1=[1,2,3,4,5]\n",
    "# using for loop I will cal. the sum of all numbers in l1 list\n",
    "s=0\n",
    "for i in l1:\n",
    "    s+=i\n",
    "print(\"Sum of all numbers\",s)"
   ]
  },
  {
   "cell_type": "code",
   "execution_count": 7,
   "id": "eff09dcd-e5d7-40f6-9dbb-165a62020044",
   "metadata": {},
   "outputs": [],
   "source": [
    "# 3. Write a program to print the characters of a string in reverse order using a `for` loop."
   ]
  },
  {
   "cell_type": "code",
   "execution_count": 62,
   "id": "bd77e6d7-abe5-43ca-8557-df36dbaf5d60",
   "metadata": {},
   "outputs": [
    {
     "name": "stdin",
     "output_type": "stream",
     "text": [
      "Enter a sample string:- shivam\n"
     ]
    },
    {
     "name": "stdout",
     "output_type": "stream",
     "text": [
      "Reversed string:-  ['m', 'a', 'v', 'i', 'h', 's']\n"
     ]
    }
   ],
   "source": [
    "s1=input(\"Enter a sample string:-\")\n",
    "emp=[]\n",
    "for i in range ((len(s1)-1),-1,-1):\n",
    "    emp.append(s1[i])\n",
    "print(\"Reversed string:- \",emp)"
   ]
  },
  {
   "cell_type": "code",
   "execution_count": null,
   "id": "31072c81-1b58-4a85-b2bd-67441fd9aaf4",
   "metadata": {},
   "outputs": [],
   "source": [
    "# 4. Develop a program that finds the factorial of a given number using a `for` loop."
   ]
  },
  {
   "cell_type": "code",
   "execution_count": 94,
   "id": "26bee6ac-44bd-4636-83a2-2f3d95af3a80",
   "metadata": {},
   "outputs": [
    {
     "name": "stdin",
     "output_type": "stream",
     "text": [
      "Enter a number for which you want to find out fatorial 5\n"
     ]
    },
    {
     "name": "stdout",
     "output_type": "stream",
     "text": [
      "Fatorial of 5 is 120\n"
     ]
    }
   ],
   "source": [
    "num=int(input(\"Enter a number for which you want to find out fatorial\"))\n",
    "f=1 # factorial value =1 \n",
    "for i in range (1,num+1):\n",
    "    f=f*i \n",
    "print(\"Fatorial of {num} is\".format(num=num),f)"
   ]
  },
  {
   "cell_type": "code",
   "execution_count": null,
   "id": "3846857d-e585-4183-b777-8b47fb7392df",
   "metadata": {},
   "outputs": [],
   "source": []
  },
  {
   "cell_type": "code",
   "execution_count": null,
   "id": "a5de4790-bb6e-476b-8b07-31b04bb30880",
   "metadata": {},
   "outputs": [],
   "source": [
    "# 5. Create a program to print the multiplication table of a given number using a `for` loop."
   ]
  },
  {
   "cell_type": "code",
   "execution_count": 101,
   "id": "e0e1d790-125d-4d00-9ab3-9561cf55acb7",
   "metadata": {},
   "outputs": [
    {
     "name": "stdin",
     "output_type": "stream",
     "text": [
      "Enter a number to whose multiplication table you want 8\n"
     ]
    },
    {
     "name": "stdout",
     "output_type": "stream",
     "text": [
      "8 x 1 = 8\n",
      "8 x 2 = 16\n",
      "8 x 3 = 24\n",
      "8 x 4 = 32\n",
      "8 x 5 = 40\n",
      "8 x 6 = 48\n",
      "8 x 7 = 56\n",
      "8 x 8 = 64\n",
      "8 x 9 = 72\n",
      "8 x 10 = 80\n"
     ]
    }
   ],
   "source": [
    "num1=int(input(\"Enter a number to whose multiplication table you want\"))\n",
    "for i in range (1,11):\n",
    "    print(num1,\"x\",i,\"=\",num1*i)"
   ]
  },
  {
   "cell_type": "code",
   "execution_count": 102,
   "id": "04cd04e1-67bb-48e0-85db-1942614d3813",
   "metadata": {},
   "outputs": [],
   "source": [
    "# 6. Write a program that counts the number of even and odd numbers in a list using a `for` loop."
   ]
  },
  {
   "cell_type": "code",
   "execution_count": 126,
   "id": "0634612c-0c07-4bcb-99a6-1b73862637c6",
   "metadata": {},
   "outputs": [
    {
     "name": "stdin",
     "output_type": "stream",
     "text": [
      "Enter numbers  12,13,31,39,37,17,1011\n"
     ]
    },
    {
     "name": "stdout",
     "output_type": "stream",
     "text": [
      "User input list from which we need to find out Odd and Even numbers [12, 13, 31, 39, 37, 17, 1011]\n",
      "12 number is even\n",
      "13 number is odd\n",
      "31 number is odd\n",
      "39 number is odd\n",
      "37 number is odd\n",
      "17 number is odd\n",
      "1011 number is odd\n"
     ]
    }
   ],
   "source": [
    "l3=input(\"Enter numbers \").split(',')\n",
    "l4=[]\n",
    "for i in range (len(l3)):\n",
    "    l4.append(int(l3[i]))\n",
    "print(\"User input list from which we need to find out Odd and Even numbers\",l4)\n",
    "for i in l4:\n",
    "    if i%2==0:\n",
    "        print(i,\"number is even\")\n",
    "    else:\n",
    "        print(i, \"number is odd\")"
   ]
  },
  {
   "cell_type": "code",
   "execution_count": 127,
   "id": "ae36ac4f-e2f0-4aa3-9b0c-7223a08b6b1c",
   "metadata": {},
   "outputs": [],
   "source": [
    "# 7. Develop a program that prints the squares of numbers from 1 to 5 using a `for` loop."
   ]
  },
  {
   "cell_type": "code",
   "execution_count": 128,
   "id": "b92a8c52-6808-4e54-a214-9bb9815b94b2",
   "metadata": {},
   "outputs": [
    {
     "name": "stdout",
     "output_type": "stream",
     "text": [
      "1\n",
      "4\n",
      "9\n",
      "16\n",
      "25\n"
     ]
    }
   ],
   "source": [
    "for i in range (1,6):\n",
    "    print(i*i)"
   ]
  },
  {
   "cell_type": "code",
   "execution_count": 129,
   "id": "61bc792b-4368-47ca-b3fc-30e61184a1ce",
   "metadata": {},
   "outputs": [],
   "source": [
    "# 8. Create a program to find the length of a string without using the `len()` function."
   ]
  },
  {
   "cell_type": "code",
   "execution_count": 132,
   "id": "3a8bc95f-2bf5-45e3-a31a-1f636b1f56fa",
   "metadata": {},
   "outputs": [
    {
     "name": "stdin",
     "output_type": "stream",
     "text": [
      "Enter a string value  shivam is a good boy and likes playing football\n"
     ]
    },
    {
     "name": "stdout",
     "output_type": "stream",
     "text": [
      "Length of string value entered:-  47\n"
     ]
    }
   ],
   "source": [
    "s7=input(\"Enter a string value \")\n",
    "count=0\n",
    "for i in s7:\n",
    "    count+=1\n",
    "print(\"Length of string value entered:- \", count)"
   ]
  },
  {
   "cell_type": "code",
   "execution_count": 133,
   "id": "15c965cb-f64f-482b-a5ae-a626bb38486c",
   "metadata": {},
   "outputs": [],
   "source": [
    "# 9. Write a program that calculates the average of a list of numbers using a `for` loop."
   ]
  },
  {
   "cell_type": "code",
   "execution_count": 144,
   "id": "6e46d5c3-b818-4a5d-b750-30f5f1fad5fa",
   "metadata": {},
   "outputs": [
    {
     "name": "stdin",
     "output_type": "stream",
     "text": [
      "Enter numbers you want to cal. average for  20 20 30 50\n"
     ]
    },
    {
     "name": "stdout",
     "output_type": "stream",
     "text": [
      "[20, 20, 30, 50]\n",
      "4\n",
      "Average of lsit numbers:-  30.0\n"
     ]
    }
   ],
   "source": [
    "# create a dynamic list by taking input from user\n",
    "inp=input(\"Enter numbers you want to cal. average for \").split()\n",
    "l5=[]\n",
    "avg=0\n",
    "for i in range ((len(inp))):\n",
    "    l5.append(int(inp[i]))\n",
    "print(l5)\n",
    "print(len(l5))\n",
    "avg=(sum(l5))/(len(l5))\n",
    "print(\"Average of list numbers:- \",avg)"
   ]
  },
  {
   "cell_type": "code",
   "execution_count": null,
   "id": "42547510-a505-4591-965d-22df6c37a667",
   "metadata": {},
   "outputs": [],
   "source": [
    "# 10. Develop a program that prints the first `n` Fibonacci numbers using a `for` loop."
   ]
  },
  {
   "cell_type": "code",
   "execution_count": 174,
   "id": "21e24b8f-beae-42b6-9076-885ed41bff0c",
   "metadata": {},
   "outputs": [
    {
     "name": "stdin",
     "output_type": "stream",
     "text": [
      "Enter the value of 'n' 5\n"
     ]
    },
    {
     "name": "stdout",
     "output_type": "stream",
     "text": [
      "First 'n' fibonnaci series numbers [0, 1, 1, 2, 3]\n"
     ]
    }
   ],
   "source": [
    "n=int(input(\"Enter the value of 'n'\"))\n",
    "f1=0 # first valiable\n",
    "c1=1  # second variable\n",
    "n1=[]\n",
    "for i in range (1,n+1):\n",
    "    f2=f1+c1\n",
    "    n1.append(f1)\n",
    "    f1=c1\n",
    "    c1=f2\n",
    "print(\"First 'n' fibonnaci series numbers {}\".format(n1))"
   ]
  },
  {
   "cell_type": "code",
   "execution_count": 175,
   "id": "a8680dea-5a33-49fe-a37c-05cad81b0607",
   "metadata": {},
   "outputs": [],
   "source": [
    "#11. Write a program to check if a given list contains any duplicates using a `for` loop."
   ]
  },
  {
   "cell_type": "code",
   "execution_count": 199,
   "id": "8cd3ab7e-60ef-4ada-ad14-0ff99ee28914",
   "metadata": {},
   "outputs": [
    {
     "name": "stdin",
     "output_type": "stream",
     "text": [
      "Enter value or strings as a input shivam,pappu,1001\n"
     ]
    },
    {
     "name": "stdout",
     "output_type": "stream",
     "text": [
      "['shivam', 'pappu', '1001']\n",
      "No duplicate words found\n"
     ]
    }
   ],
   "source": [
    "l8=input(\"Enter value or strings as a input\").split(',')\n",
    "c=0\n",
    "emp1=set() # creating empty set to collect all duplicates\n",
    "for i in l8:\n",
    "    if l8.count(i)>1:\n",
    "        c+=1\n",
    "        emp1.add(i)\n",
    "if c>0:\n",
    "    print(\"Duplicate words found {}\".format(emp1)) # displaying if their is any duplicate value\n",
    "else:\n",
    "    print(\"No duplicate words found\") # if their is no duplicate value found"
   ]
  },
  {
   "cell_type": "code",
   "execution_count": 200,
   "id": "9c5ec552-8ec1-43af-a08c-6e0735aaf0a6",
   "metadata": {},
   "outputs": [],
   "source": [
    "# 12. Create a program that prints the prime numbers in a given range using a `for` loop."
   ]
  },
  {
   "cell_type": "code",
   "execution_count": 220,
   "id": "1ad948b6-1391-4c57-9ecc-ccb94dc58c8f",
   "metadata": {},
   "outputs": [
    {
     "name": "stdin",
     "output_type": "stream",
     "text": [
      "Enter a start index 10\n",
      "Enter a stop index 100\n"
     ]
    },
    {
     "name": "stdout",
     "output_type": "stream",
     "text": [
      "Prime numbers  11\n",
      "Prime numbers  13\n",
      "Prime numbers  17\n",
      "Prime numbers  19\n",
      "Prime numbers  23\n",
      "Prime numbers  29\n",
      "Prime numbers  31\n",
      "Prime numbers  37\n",
      "Prime numbers  41\n",
      "Prime numbers  43\n",
      "Prime numbers  47\n",
      "Prime numbers  53\n",
      "Prime numbers  59\n",
      "Prime numbers  61\n",
      "Prime numbers  67\n",
      "Prime numbers  71\n",
      "Prime numbers  73\n",
      "Prime numbers  79\n",
      "Prime numbers  83\n",
      "Prime numbers  89\n",
      "Prime numbers  97\n"
     ]
    }
   ],
   "source": [
    "start_index = int(input(\"Enter a start index\"))\n",
    "stop_index = int(input(\"Enter a stop index\"))\n",
    "for i in range (start_index,stop_index): # given range by user\n",
    "    for j in range (2,i):\n",
    "        if i%j==0:\n",
    "            break\n",
    "    else:\n",
    "        print(\"Prime numbers \",i)"
   ]
  },
  {
   "cell_type": "code",
   "execution_count": 221,
   "id": "5a98d75d-7fe9-4125-b1e7-15bb1c4e2f06",
   "metadata": {},
   "outputs": [],
   "source": [
    "# 13. Develop a program that counts the number of vowels in a string using a `for` loop."
   ]
  },
  {
   "cell_type": "code",
   "execution_count": 223,
   "id": "83602017-2791-4732-b582-7589c02ee29b",
   "metadata": {},
   "outputs": [
    {
     "name": "stdin",
     "output_type": "stream",
     "text": [
      "Enter a string shivam is a good boy\n"
     ]
    },
    {
     "name": "stdout",
     "output_type": "stream",
     "text": [
      "No of vowels in a given string is: 7\n"
     ]
    }
   ],
   "source": [
    "s5=input(\"Enter a string\")\n",
    "count = 0\n",
    "for i in s5:\n",
    "    if i.lower() in ['a','e','i','o','u']:\n",
    "        count+=1\n",
    "print(\"No of vowels in a given string is: {}\".format(count))"
   ]
  },
  {
   "cell_type": "code",
   "execution_count": 225,
   "id": "b447ef84-9429-49b1-a82b-616f4ff984fb",
   "metadata": {},
   "outputs": [],
   "source": [
    "# 14. Write a program to find the maximum element in a 2D list using a nested `for` loop.\n",
    "\n",
    "# I don't know how to do it"
   ]
  },
  {
   "cell_type": "code",
   "execution_count": 226,
   "id": "3f928320-bba3-4e46-8fa8-d9b94e6a9d28",
   "metadata": {},
   "outputs": [],
   "source": [
    "# 15. Create a program that removes all occurrences of a specific element from a list using a `for` loop."
   ]
  },
  {
   "cell_type": "code",
   "execution_count": 229,
   "id": "805b87f5-3720-4bb9-a63a-235031e3a6fc",
   "metadata": {},
   "outputs": [
    {
     "name": "stdout",
     "output_type": "stream",
     "text": [
      "Original list: [10, 20, 10, 30, 10, 40, 10, 50]\n",
      "List after removing elements: [20, 30, 40, 50]\n"
     ]
    }
   ],
   "source": [
    "list1 = [10, 20, 10, 30, 10, 40, 10, 50]\n",
    "# number (n) to be removed\n",
    "n = 10\n",
    "print (\"Original list: {}\".format(list1))\n",
    "\n",
    "for x in list1:\n",
    "    if x == n:\n",
    "        list1.remove(x)\n",
    "\n",
    "# print list after removing given element\n",
    "print (\"List after removing elements: {}\".format(list1))"
   ]
  },
  {
   "cell_type": "code",
   "execution_count": null,
   "id": "7b7fe009-7c94-4887-8f43-9bcd526c3d46",
   "metadata": {},
   "outputs": [],
   "source": [
    "# 16. Develop a program that generates a multiplication table for numbers from 1 to 5 using a nested \n",
    "#`for` loop."
   ]
  },
  {
   "cell_type": "code",
   "execution_count": 236,
   "id": "bde39be1-aa99-428f-857a-5e95582ec0a7",
   "metadata": {},
   "outputs": [
    {
     "name": "stdout",
     "output_type": "stream",
     "text": [
      "1 x 1 = 1\n",
      "1 x 2 = 2\n",
      "1 x 3 = 3\n",
      "1 x 4 = 4\n",
      "1 x 5 = 5\n",
      "1 x 6 = 6\n",
      "1 x 7 = 7\n",
      "1 x 8 = 8\n",
      "1 x 9 = 9\n",
      "1 x 10 = 10\n",
      "===========\n",
      "2 x 1 = 2\n",
      "2 x 2 = 4\n",
      "2 x 3 = 6\n",
      "2 x 4 = 8\n",
      "2 x 5 = 10\n",
      "2 x 6 = 12\n",
      "2 x 7 = 14\n",
      "2 x 8 = 16\n",
      "2 x 9 = 18\n",
      "2 x 10 = 20\n",
      "===========\n",
      "3 x 1 = 3\n",
      "3 x 2 = 6\n",
      "3 x 3 = 9\n",
      "3 x 4 = 12\n",
      "3 x 5 = 15\n",
      "3 x 6 = 18\n",
      "3 x 7 = 21\n",
      "3 x 8 = 24\n",
      "3 x 9 = 27\n",
      "3 x 10 = 30\n",
      "===========\n",
      "4 x 1 = 4\n",
      "4 x 2 = 8\n",
      "4 x 3 = 12\n",
      "4 x 4 = 16\n",
      "4 x 5 = 20\n",
      "4 x 6 = 24\n",
      "4 x 7 = 28\n",
      "4 x 8 = 32\n",
      "4 x 9 = 36\n",
      "4 x 10 = 40\n",
      "===========\n",
      "5 x 1 = 5\n",
      "5 x 2 = 10\n",
      "5 x 3 = 15\n",
      "5 x 4 = 20\n",
      "5 x 5 = 25\n",
      "5 x 6 = 30\n",
      "5 x 7 = 35\n",
      "5 x 8 = 40\n",
      "5 x 9 = 45\n",
      "5 x 10 = 50\n",
      "===========\n"
     ]
    }
   ],
   "source": [
    "for i in range (1,6):\n",
    "    for j in range (1,11):\n",
    "        print(i,\"x\",j,\"=\",i*j)\n",
    "    print(\"===========\")"
   ]
  },
  {
   "cell_type": "code",
   "execution_count": 237,
   "id": "11d40d5c-ec81-42ef-b534-19ce8eee1fdf",
   "metadata": {},
   "outputs": [],
   "source": [
    "# 17. Write a program that converts a list of Fahrenheit temperatures to Celsius using a `for` loop."
   ]
  },
  {
   "cell_type": "code",
   "execution_count": 249,
   "id": "8edddddf-b084-4215-ab0a-1e6cd33b6221",
   "metadata": {},
   "outputs": [
    {
     "name": "stdin",
     "output_type": "stream",
     "text": [
      "Enter a temp value 128.6,120.5,113.2,102,98\n"
     ]
    },
    {
     "name": "stdout",
     "output_type": "stream",
     "text": [
      "['128.6', '120.5', '113.2', '102', '98']\n",
      "Celcius_temp [53.67, 49.17, 45.11, 38.89, 36.67]\n"
     ]
    }
   ],
   "source": [
    "Fahrenheit_temp = input(\"Enter a temp value\").split(',')\n",
    "print(Fahrenheit_temp)\n",
    "bucket=[]\n",
    "for i in Fahrenheit_temp:\n",
    "    celcius_temp = round((float(i) - 32) * (5/9),2)\n",
    "    bucket.append(celcius_temp)\n",
    "print(\"Celcius_temp {}\".format(bucket))"
   ]
  },
  {
   "cell_type": "code",
   "execution_count": 250,
   "id": "46629bce-4ecd-4662-8eb9-3b4c877370d8",
   "metadata": {},
   "outputs": [],
   "source": [
    "# 18. Create a program to print the common elements from two lists using a `for` loop."
   ]
  },
  {
   "cell_type": "code",
   "execution_count": 260,
   "id": "502574b8-2f7a-47fc-b9e4-b88363ef7ecb",
   "metadata": {},
   "outputs": [
    {
     "name": "stdout",
     "output_type": "stream",
     "text": [
      "Common elements between l1 & l2 {'shivam', 101, 'pappu'}\n"
     ]
    }
   ],
   "source": [
    "l1=[\"shivam\",\"pappu\",\"singh\",101,1001,\"shivam\",\"pappu\",\"sinha\"]\n",
    "l2=[101,1009,\"shivam\",\"pappu\",\"pappu\",\"ballu\",\"sitara\"]\n",
    "s=set()\n",
    "if len(l1)>len(l2):\n",
    "    for i in range (0,(len(l1))):\n",
    "        if l1[i] in l2:\n",
    "            s.add(l1[i])\n",
    "    print(\"Common elements between l1 & l2 {}\".format(s))\n",
    "else:\n",
    "    for j in range (0,(len(l2))):\n",
    "        if l2[j] in l1:\n",
    "            s.add(l2[j])\n",
    "    print(\"Common elements between l1 and l2 \",s)"
   ]
  },
  {
   "cell_type": "code",
   "execution_count": null,
   "id": "a2e73a26-d82f-4b10-8143-52dfc97563ab",
   "metadata": {},
   "outputs": [],
   "source": [
    "# 19. Develop a program that prints the pattern of right-angled triangles using a `for` loop. Use ‘*’ \n",
    "# to draw the pattern"
   ]
  },
  {
   "cell_type": "code",
   "execution_count": 270,
   "id": "4a2da48b-11c8-47a0-b8a1-63316a13bbb2",
   "metadata": {},
   "outputs": [
    {
     "name": "stdin",
     "output_type": "stream",
     "text": [
      "Enter the side of triangle 5\n"
     ]
    },
    {
     "name": "stdout",
     "output_type": "stream",
     "text": [
      " * \n",
      " * * \n",
      " * * * \n",
      " * * * * \n",
      " * * * * * \n"
     ]
    }
   ],
   "source": [
    "side=int(input(\"Enter the side of triangle\"))\n",
    "for i in range (1,side+1):\n",
    "    print(\" \",end='')\n",
    "    for j in range (i):\n",
    "        print(\"*\",end=' ')\n",
    "    print()"
   ]
  },
  {
   "cell_type": "code",
   "execution_count": 271,
   "id": "729ca49e-0bc9-4b54-b389-aa5cea4124bb",
   "metadata": {},
   "outputs": [],
   "source": [
    "# 20. Write a program to find the greatest common divisor (GCD) of two numbers using a `for` loop."
   ]
  },
  {
   "cell_type": "code",
   "execution_count": 285,
   "id": "9727d991-dd20-4e33-8444-3aba67fea7da",
   "metadata": {},
   "outputs": [
    {
     "name": "stdin",
     "output_type": "stream",
     "text": [
      "Enter 1st number  12\n",
      "Enter 2nd number  30\n"
     ]
    },
    {
     "name": "stdout",
     "output_type": "stream",
     "text": [
      "GCD of 12 30 is 6 \n"
     ]
    }
   ],
   "source": [
    "num1= int(input(\"Enter 1st number \"))\n",
    "num2= int(input(\"Enter 2nd number \"))\n",
    "num3=[]\n",
    "if num1>num2:\n",
    "    smaller = num2\n",
    "else:\n",
    "    smaller = num1\n",
    "for i in range (1,smaller+1):\n",
    "    if ((num1%i==0) and (num2%i==0)):\n",
    "        num3.append(i)\n",
    "print(\"GCD of {} {} is {} \".format(num1,num2,max(num3)))"
   ]
  },
  {
   "cell_type": "code",
   "execution_count": 286,
   "id": "01cf84a8-0318-4ec3-b0bc-a081f3139679",
   "metadata": {},
   "outputs": [],
   "source": [
    "# 21. Create a program that calculates the sum of the digits of numbers in a list using a list \n",
    "# comprehension."
   ]
  },
  {
   "cell_type": "code",
   "execution_count": 5,
   "id": "695d5e96-affa-48c7-a4c2-b3aaa603c63a",
   "metadata": {},
   "outputs": [
    {
     "name": "stdout",
     "output_type": "stream",
     "text": [
      "Sum of digits of numbers in a list:  [3, 4, 5, 6]\n"
     ]
    }
   ],
   "source": [
    "numlist=[12,13,14,15]\n",
    "\n",
    "res= [ sum([int(j)  for j in str(i)]) for i in numlist] \n",
    "print(\"Sum of digits of numbers in a list: \",res)"
   ]
  },
  {
   "cell_type": "code",
   "execution_count": null,
   "id": "593ccff4-08e4-4fd7-97e7-0cd6a8a86d44",
   "metadata": {},
   "outputs": [],
   "source": [
    "# 22.Write a program to find the prime factors of a given number using a `for` loop and list comprehension."
   ]
  },
  {
   "cell_type": "code",
   "execution_count": 28,
   "id": "432ffd64-ae14-47b1-9519-70734e4499f8",
   "metadata": {},
   "outputs": [
    {
     "name": "stdin",
     "output_type": "stream",
     "text": [
      "Enter a number  97\n"
     ]
    },
    {
     "name": "stdout",
     "output_type": "stream",
     "text": [
      "1 97 "
     ]
    },
    {
     "name": "stdin",
     "output_type": "stream",
     "text": [
      "Enter a number  97\n"
     ]
    },
    {
     "name": "stdout",
     "output_type": "stream",
     "text": [
      "1 97 "
     ]
    }
   ],
   "source": [
    "# 1st method:- \n",
    "num2=int(input(\"Enter a number \"))\n",
    "prime=set()\n",
    "for i in range (1,num2+1):\n",
    "    if (num2%i==0):\n",
    "        flag=0\n",
    "        for j in range (2,i):\n",
    "            if i%j==0:\n",
    "                flag=1\n",
    "        if flag==0:\n",
    "            print(i,end=' ')\n",
    "# =======================================================\n",
    "\n",
    "# 2nd method:-\n",
    "def is_prime():\n",
    "    n=int(input(\"Enter a number \"))\n",
    "    for i in range (1,n+1):\n",
    "        if n%i==0:\n",
    "            flag=0\n",
    "            for j in range (2,i):\n",
    "                if i%j==0:\n",
    "                    flag=1\n",
    "            if flag==0:\n",
    "                print(i,end=' ')\n",
    "is_prime()"
   ]
  },
  {
   "cell_type": "code",
   "execution_count": 27,
   "id": "3aaed6a1-e10a-4e94-8997-90c044a50881",
   "metadata": {},
   "outputs": [
    {
     "name": "stdin",
     "output_type": "stream",
     "text": [
      "Enter a number 100\n"
     ]
    },
    {
     "name": "stdout",
     "output_type": "stream",
     "text": [
      "[1, 2, 4, 5, 10, 20, 25, 50, 100]\n"
     ]
    }
   ],
   "source": [
    "res=[ i for i in range (1,int(input(\"Enter a number\"))+1) if num2%i==0 ]\n",
    "print(res)"
   ]
  },
  {
   "cell_type": "code",
   "execution_count": null,
   "id": "5ba457c5-308a-4e75-b2ab-53aad7ebd9ca",
   "metadata": {},
   "outputs": [],
   "source": [
    "# 23. Develop a program that extracts unique elements from a list and stores them in a new list using a \n",
    "# list comprehension."
   ]
  },
  {
   "cell_type": "code",
   "execution_count": 7,
   "id": "5b12f8e7-2acf-4503-8892-1a3c992f51e0",
   "metadata": {},
   "outputs": [
    {
     "name": "stdin",
     "output_type": "stream",
     "text": [
      "Enter a list of strings  shivam,shivam,1001,1001,1010,pappu,Virat,kohli,Rohit Sharma\n"
     ]
    },
    {
     "name": "stdout",
     "output_type": "stream",
     "text": [
      "Extracted unique elements from a list  ['1010', 'pappu', 'Virat', 'kohli', 'Rohit Sharma']\n"
     ]
    }
   ],
   "source": [
    "s=[]\n",
    "inp=input(\"Enter a list of strings \").split(',')\n",
    "res1=[ s.append(i) for i in inp if inp.count(i)==1]\n",
    "print(\"Extracted unique elements from a list \", s)"
   ]
  },
  {
   "cell_type": "code",
   "execution_count": null,
   "id": "2bc44658-199c-4ed5-bcfb-d4874a5b5792",
   "metadata": {},
   "outputs": [],
   "source": [
    "# 24. Create a program that generates a list of all palindromic numbers up to a specified limit using a \n",
    "# list comprehension."
   ]
  },
  {
   "cell_type": "code",
   "execution_count": 10,
   "id": "83ad537a-1892-4b15-9879-32d538e5a191",
   "metadata": {},
   "outputs": [
    {
     "name": "stdin",
     "output_type": "stream",
     "text": [
      "Enter numbers in the form of list racecar,pappu,malayalam,1001,44,99,1331\n"
     ]
    },
    {
     "name": "stdout",
     "output_type": "stream",
     "text": [
      "racecar\n",
      "malayalam\n",
      "1001\n",
      "44\n",
      "99\n",
      "1331\n"
     ]
    }
   ],
   "source": [
    "l10=input(\"Enter numbers in the form of list\").split(',')\n",
    "for i in l10:\n",
    "    if i==i[::-1]:\n",
    "        print(i)"
   ]
  },
  {
   "cell_type": "code",
   "execution_count": 12,
   "id": "cc7b2ec1-42f0-4429-91ed-a5b324267efe",
   "metadata": {},
   "outputs": [
    {
     "name": "stdin",
     "output_type": "stream",
     "text": [
      "Enter numbers in the form of list 1001,1331,99,1234,5061,7355\n"
     ]
    },
    {
     "name": "stdout",
     "output_type": "stream",
     "text": [
      "Palindromic number copied to a new list  ['1001', '1331', '99']\n"
     ]
    }
   ],
   "source": [
    "new_list=[]\n",
    "res12=[new_list.append(i) for i in input(\"Enter numbers in the form of list\").split(',') if i == i[::-1]]\n",
    "print(\"Palindromic number copied to a new list \",new_list)"
   ]
  },
  {
   "cell_type": "code",
   "execution_count": 13,
   "id": "c9a4074f-fbf2-4bb8-a24d-3bb71c6927fa",
   "metadata": {},
   "outputs": [],
   "source": [
    "# 25. Write a program to flatten a nested list using list comprehension."
   ]
  },
  {
   "cell_type": "code",
   "execution_count": 21,
   "id": "0fe37477-381c-42b8-8e7c-fa0578b530a7",
   "metadata": {},
   "outputs": [
    {
     "name": "stdout",
     "output_type": "stream",
     "text": [
      "[1, 2, 3, 4, 5, 6, 7]\n"
     ]
    }
   ],
   "source": [
    "my_list = [[1], [2, 3], [4, 5, 6, 7]]\n",
    "\n",
    "flat_list = [num for sublist in my_list for num in sublist]\n",
    "print(flat_list)"
   ]
  },
  {
   "cell_type": "code",
   "execution_count": null,
   "id": "3e6be0fb-70a3-4623-ae64-bff68fbc4453",
   "metadata": {},
   "outputs": [],
   "source": [
    "# 26. Develop a program that computes the sum of even and odd numbers in a list separately using list \n",
    "# comprehension."
   ]
  },
  {
   "cell_type": "code",
   "execution_count": 21,
   "id": "99f6e8af-4c51-489f-bbd9-ff852f334d47",
   "metadata": {},
   "outputs": [
    {
     "name": "stdout",
     "output_type": "stream",
     "text": [
      "Even number sum = 210\n"
     ]
    }
   ],
   "source": [
    "even_num=sum([x for x in range(30) if x % 2==0])\n",
    "print(\"Even number sum =\", even_num)"
   ]
  },
  {
   "cell_type": "code",
   "execution_count": 19,
   "id": "cfb9ea3c-699a-4a4e-af4d-38457a758753",
   "metadata": {},
   "outputs": [
    {
     "name": "stdout",
     "output_type": "stream",
     "text": [
      "Odd number sum = 225\n"
     ]
    }
   ],
   "source": [
    "odd_num=sum([x for x in range(30) if x % 2 != 0])\n",
    "print(\"Odd number sum =\",odd_num)"
   ]
  },
  {
   "cell_type": "code",
   "execution_count": null,
   "id": "d28e4422-6627-41cd-bbcb-f85993d7975a",
   "metadata": {},
   "outputs": [],
   "source": []
  },
  {
   "cell_type": "code",
   "execution_count": null,
   "id": "a2230dbd-a372-42b2-9382-fa9a36a3f943",
   "metadata": {},
   "outputs": [],
   "source": [
    "# 27. Create a program that generates a list of squares of odd numbers between 1 and 10 using list \n",
    "#comprehension."
   ]
  },
  {
   "cell_type": "code",
   "execution_count": 24,
   "id": "b0dfc410-76c3-44a3-943e-d8cfdaf78e20",
   "metadata": {},
   "outputs": [
    {
     "name": "stdout",
     "output_type": "stream",
     "text": [
      "List of sqrs of odd numbers b/w 1 to 10  [1, 9, 25, 49, 81]\n"
     ]
    }
   ],
   "source": [
    "sqr=[i*i for i in range(1,11) if i%2!=0]\n",
    "print(\"List of sqrs of odd numbers b/w 1 to 10 \",sqr)"
   ]
  },
  {
   "cell_type": "code",
   "execution_count": null,
   "id": "804ac9bb-2b18-4a01-b714-32d4a0a747b2",
   "metadata": {},
   "outputs": [],
   "source": [
    "# 28. Write a program that combines two lists into a dictionary using list comprehension."
   ]
  },
  {
   "cell_type": "code",
   "execution_count": 30,
   "id": "6d66e40e-dc6a-4d5e-ad9e-f707a7a704b3",
   "metadata": {},
   "outputs": [
    {
     "name": "stdout",
     "output_type": "stream",
     "text": [
      "{'Grapes': 100, 'Apple': 105, 'Guava': 104, 'Orange': 90, 'Pomegranate': 120}\n"
     ]
    }
   ],
   "source": [
    "list1=[\"Grapes\",\"Apple\",\"Guava\",\"Orange\",\"Pomegranate\"]\n",
    "list2=[100,105,104,90,120]\n",
    "resss= {i:v for i,v in zip(list1,list2)}\n",
    "print(resss)"
   ]
  },
  {
   "cell_type": "code",
   "execution_count": null,
   "id": "9d2a3581-f594-42cb-89be-c42b94b69e8d",
   "metadata": {},
   "outputs": [],
   "source": [
    "# 29. Develop a program that extracts the vowels from a string and stores them in a list using list \n",
    "# comprehension."
   ]
  },
  {
   "cell_type": "code",
   "execution_count": 34,
   "id": "0c83b697-f98e-4fbd-a319-227dfea78e8f",
   "metadata": {},
   "outputs": [
    {
     "name": "stdin",
     "output_type": "stream",
     "text": [
      "Enter a sample string  shivam IS A GOOD boy and play criCKET\n"
     ]
    },
    {
     "name": "stdout",
     "output_type": "stream",
     "text": [
      "Vowels =  ['i', 'a', 'I', 'A', 'O', 'O', 'o', 'a', 'a', 'i', 'E']\n"
     ]
    }
   ],
   "source": [
    "vowels=[i for i in input(\"Enter a sample string \") if i.lower() in ('a','e','i','o','u')]\n",
    "print(\"Vowels = \",vowels)"
   ]
  },
  {
   "cell_type": "code",
   "execution_count": null,
   "id": "d70f0a13-70bc-4236-bf12-5af8c7f29877",
   "metadata": {},
   "outputs": [],
   "source": [
    "# 30. Create a program that removes all non-numeric characters from a list of strings using list \n",
    "# comprehension."
   ]
  },
  {
   "cell_type": "code",
   "execution_count": 38,
   "id": "6894e9fe-cbbc-4f21-85de-dc84c6499a26",
   "metadata": {},
   "outputs": [
    {
     "name": "stdin",
     "output_type": "stream",
     "text": [
      "Enter a sample string  shivam56789432^&*32))PPPTTTYYAAdjv\n"
     ]
    },
    {
     "name": "stdout",
     "output_type": "stream",
     "text": [
      "Remove all non-numeric character  ['s', 'h', 'i', 'v', 'a', 'm', '^', '&', '*', ')', ')', 'P', 'P', 'P', 'T', 'T', 'T', 'Y', 'Y', 'A', 'A', 'd', 'j', 'v']\n"
     ]
    }
   ],
   "source": [
    "non_numeric=[i for i in input(\"Enter a sample string \") if i.lower() not in ('1','2','3','4','5','6','7','8','9','0')] \n",
    "\n",
    "print(\"Remove all non-numeric character: \", non_numeric)    "
   ]
  },
  {
   "cell_type": "code",
   "execution_count": null,
   "id": "fa7df68f-94f9-4db0-9ad7-e20bbb417e4c",
   "metadata": {},
   "outputs": [],
   "source": [
    "# 31. Write a program to generate a list of prime numbers using the Sieve of Eratosthenes algorithm and \n",
    "# list comprehension."
   ]
  },
  {
   "cell_type": "code",
   "execution_count": 45,
   "id": "c0d729ff-5574-4cf7-868e-7a776426c712",
   "metadata": {},
   "outputs": [
    {
     "name": "stdout",
     "output_type": "stream",
     "text": [
      "1 2 3 5 7 11 13 17 19 "
     ]
    }
   ],
   "source": [
    "for i in range (1,20):\n",
    "    for j in range (2,i):\n",
    "        if i%j==0:\n",
    "            break\n",
    "    else:\n",
    "        print(i,end=' ')"
   ]
  },
  {
   "cell_type": "code",
   "execution_count": 73,
   "id": "60e5894c-4d7a-45e5-90e5-4c3c4f67c339",
   "metadata": {},
   "outputs": [
    {
     "name": "stdout",
     "output_type": "stream",
     "text": [
      "[1, 2, 3, 5, 7, 11, 13, 17, 19]\n"
     ]
    }
   ],
   "source": [
    "res1 = [i for i in range (1,20) if all(i%j!=0 for j in range (2,i)) ]\n",
    "print(res1)"
   ]
  },
  {
   "cell_type": "code",
   "execution_count": 75,
   "id": "ab44c7d2-73aa-4729-9361-517fd2281d62",
   "metadata": {},
   "outputs": [
    {
     "name": "stdout",
     "output_type": "stream",
     "text": [
      "[1, 2, 3, 5, 7, 11, 13, 17, 19]\n"
     ]
    }
   ],
   "source": [
    "res2=[i for i in range (1,20) if not [j for j in range (2,i) if i%j==0]]\n",
    "print(res2)"
   ]
  },
  {
   "cell_type": "code",
   "execution_count": null,
   "id": "e459886e-6fd9-4dc3-b6a8-6fb254215537",
   "metadata": {},
   "outputs": [],
   "source": [
    "# 32. Create a program that generates a list of all Pythagorean triplets up to a specified limit using \n",
    "# list comprehension."
   ]
  },
  {
   "cell_type": "code",
   "execution_count": 76,
   "id": "ec3d2de1-8975-4ff6-bad8-34c4f8b3d207",
   "metadata": {},
   "outputs": [
    {
     "name": "stdout",
     "output_type": "stream",
     "text": [
      "[(3, 4, 5), (5, 12, 13), (6, 8, 10), (7, 24, 25), (8, 15, 17), (9, 12, 15), (10, 24, 26), (12, 16, 20), (15, 20, 25), (20, 21, 29)]\n"
     ]
    }
   ],
   "source": [
    "triplet = [(x,y,z) for x in range (1,30) for y in range (x,30) for z in range (y,30) if x*x + y*y == z*z ]\n",
    "print(triplet)"
   ]
  },
  {
   "cell_type": "code",
   "execution_count": null,
   "id": "a650778e-44a9-4eca-a440-35160b2d384d",
   "metadata": {},
   "outputs": [],
   "source": [
    "# 33. Develop a program that generates a list of all possible combinations of two lists using list \n",
    "# comprehension."
   ]
  },
  {
   "cell_type": "code",
   "execution_count": 89,
   "id": "49cea34b-9ef4-4ecc-b258-c51c93f32c93",
   "metadata": {},
   "outputs": [
    {
     "name": "stdout",
     "output_type": "stream",
     "text": [
      "[(5, 7, 9), (5, 7, 12), (5, 7, 15), (5, 24, 9), (5, 24, 12), (5, 24, 15), (5, 25, 9), (5, 25, 12), (5, 25, 15), (12, 7, 9), (12, 7, 12), (12, 7, 15), (12, 24, 9), (12, 24, 12), (12, 24, 15), (12, 25, 9), (12, 25, 12), (12, 25, 15), (13, 7, 9), (13, 7, 12), (13, 7, 15), (13, 24, 9), (13, 24, 12), (13, 24, 15), (13, 25, 9), (13, 25, 12), (13, 25, 15)]\n"
     ]
    }
   ],
   "source": [
    "l1=[5, 12, 13]\n",
    "l2=[7, 24, 25]\n",
    "l3=[9, 12, 15]\n",
    "combination = [(i,j,k) for i in l1 for j in l2 for k in l3]\n",
    "print(combination)"
   ]
  },
  {
   "cell_type": "code",
   "execution_count": null,
   "id": "a1aa57b5-8a7e-4fa6-8771-47efb8dc96f6",
   "metadata": {},
   "outputs": [],
   "source": [
    "# 34. Write a program that calculates the mean, median, and mode of a list of numbers using list comprehension."
   ]
  },
  {
   "cell_type": "code",
   "execution_count": 146,
   "id": "d726cc0d-4365-427d-a61e-fa69ce46fb2e",
   "metadata": {},
   "outputs": [
    {
     "name": "stdout",
     "output_type": "stream",
     "text": [
      "Mean for above sample_input list  [3.6666666666666665]\n"
     ]
    },
    {
     "ename": "IndexError",
     "evalue": "list index out of range",
     "output_type": "error",
     "traceback": [
      "\u001b[0;31m---------------------------------------------------------------------------\u001b[0m",
      "\u001b[0;31mIndexError\u001b[0m                                Traceback (most recent call last)",
      "\u001b[0;32m/var/folders/d2/yg57v4px4gn0pxft6_34cc180000gn/T/ipykernel_19147/2026546563.py\u001b[0m in \u001b[0;36m<module>\u001b[0;34m\u001b[0m\n\u001b[1;32m      6\u001b[0m \u001b[0;34m\u001b[0m\u001b[0m\n\u001b[1;32m      7\u001b[0m \u001b[0;31m# 2nd will calculate median using list comprehension\u001b[0m\u001b[0;34m\u001b[0m\u001b[0;34m\u001b[0m\u001b[0m\n\u001b[0;32m----> 8\u001b[0;31m \u001b[0mres3\u001b[0m \u001b[0;34m=\u001b[0m \u001b[0;34m[\u001b[0m\u001b[0msample_input\u001b[0m\u001b[0;34m[\u001b[0m\u001b[0mi\u001b[0m\u001b[0;34m//\u001b[0m\u001b[0;36m2\u001b[0m\u001b[0;34m]\u001b[0m \u001b[0;32mif\u001b[0m \u001b[0mlen\u001b[0m\u001b[0;34m(\u001b[0m\u001b[0msample_input\u001b[0m\u001b[0;34m)\u001b[0m\u001b[0;34m/\u001b[0m\u001b[0;36m2\u001b[0m\u001b[0;34m==\u001b[0m\u001b[0;36m0\u001b[0m \u001b[0;32melse\u001b[0m \u001b[0mres\u001b[0m\u001b[0;34m[\u001b[0m\u001b[0mi\u001b[0m\u001b[0;34m//\u001b[0m\u001b[0;36m2\u001b[0m\u001b[0;34m]\u001b[0m \u001b[0;32mfor\u001b[0m \u001b[0mi\u001b[0m \u001b[0;32min\u001b[0m \u001b[0msample_input\u001b[0m\u001b[0;34m]\u001b[0m\u001b[0;34m\u001b[0m\u001b[0;34m\u001b[0m\u001b[0m\n\u001b[0m\u001b[1;32m      9\u001b[0m \u001b[0mprint\u001b[0m\u001b[0;34m(\u001b[0m\u001b[0mres3\u001b[0m\u001b[0;34m)\u001b[0m\u001b[0;34m\u001b[0m\u001b[0;34m\u001b[0m\u001b[0m\n",
      "\u001b[0;32m/var/folders/d2/yg57v4px4gn0pxft6_34cc180000gn/T/ipykernel_19147/2026546563.py\u001b[0m in \u001b[0;36m<listcomp>\u001b[0;34m(.0)\u001b[0m\n\u001b[1;32m      6\u001b[0m \u001b[0;34m\u001b[0m\u001b[0m\n\u001b[1;32m      7\u001b[0m \u001b[0;31m# 2nd will calculate median using list comprehension\u001b[0m\u001b[0;34m\u001b[0m\u001b[0;34m\u001b[0m\u001b[0m\n\u001b[0;32m----> 8\u001b[0;31m \u001b[0mres3\u001b[0m \u001b[0;34m=\u001b[0m \u001b[0;34m[\u001b[0m\u001b[0msample_input\u001b[0m\u001b[0;34m[\u001b[0m\u001b[0mi\u001b[0m\u001b[0;34m//\u001b[0m\u001b[0;36m2\u001b[0m\u001b[0;34m]\u001b[0m \u001b[0;32mif\u001b[0m \u001b[0mlen\u001b[0m\u001b[0;34m(\u001b[0m\u001b[0msample_input\u001b[0m\u001b[0;34m)\u001b[0m\u001b[0;34m/\u001b[0m\u001b[0;36m2\u001b[0m\u001b[0;34m==\u001b[0m\u001b[0;36m0\u001b[0m \u001b[0;32melse\u001b[0m \u001b[0mres\u001b[0m\u001b[0;34m[\u001b[0m\u001b[0mi\u001b[0m\u001b[0;34m//\u001b[0m\u001b[0;36m2\u001b[0m\u001b[0;34m]\u001b[0m \u001b[0;32mfor\u001b[0m \u001b[0mi\u001b[0m \u001b[0;32min\u001b[0m \u001b[0msample_input\u001b[0m\u001b[0;34m]\u001b[0m\u001b[0;34m\u001b[0m\u001b[0;34m\u001b[0m\u001b[0m\n\u001b[0m\u001b[1;32m      9\u001b[0m \u001b[0mprint\u001b[0m\u001b[0;34m(\u001b[0m\u001b[0mres3\u001b[0m\u001b[0;34m)\u001b[0m\u001b[0;34m\u001b[0m\u001b[0;34m\u001b[0m\u001b[0m\n",
      "\u001b[0;31mIndexError\u001b[0m: list index out of range"
     ]
    }
   ],
   "source": [
    "# 1st will calculate mean using list comprehension \n",
    "\n",
    "sample_input = [1,2,3,4,5,7]\n",
    "res= [(sum([ i for i in sample_input ])/len(sample_input))]\n",
    "print(\"Mean for above sample_input list \", res)\n",
    "\n",
    "# 2nd will calculate median using list comprehension \n",
    "res3 = [sample_input[i//2] if len(sample_input)/2==0 else for i in sample_input]\n",
    "print(res3)"
   ]
  },
  {
   "cell_type": "code",
   "execution_count": null,
   "id": "940f348c-5f3e-4b07-90af-ba588e6d9826",
   "metadata": {},
   "outputs": [],
   "source": []
  },
  {
   "cell_type": "code",
   "execution_count": null,
   "id": "1f6bc71e-e54b-440d-bb2a-da74b8e9a7e1",
   "metadata": {},
   "outputs": [],
   "source": []
  },
  {
   "cell_type": "code",
   "execution_count": null,
   "id": "ccce1399-39fe-4f41-b308-04a0a1d3cc2c",
   "metadata": {},
   "outputs": [],
   "source": [
    "# 35. Create a program that generates Pascal's triangle up to a specified number of rows using list \n",
    "# comprehension."
   ]
  },
  {
   "cell_type": "code",
   "execution_count": null,
   "id": "3cab716c-e776-44bc-84a2-eb46694f69b1",
   "metadata": {},
   "outputs": [],
   "source": [
    "def generate_pascals_triangle(rows):\n",
    "    triangle = [[1] if i == 0 else [1, 1] if i == 1 else [1] + [triangle[i-1][j-1] + triangle[i-1][j] for j in range(1, i)] + [1] for i in range(rows)]\n",
    "    return triangle\n",
    "\n",
    "def print_pascals_triangle(triangle):\n",
    "    for row in triangle:\n",
    "        print(row)"
   ]
  },
  {
   "cell_type": "code",
   "execution_count": null,
   "id": "e9f950f1-6aad-495a-81ab-585eaceb0393",
   "metadata": {},
   "outputs": [],
   "source": []
  },
  {
   "cell_type": "code",
   "execution_count": null,
   "id": "3085f158-2631-4efe-89a0-eb95ed863376",
   "metadata": {},
   "outputs": [],
   "source": [
    "# 36. Develop a program that calculates the sum of the digits of a factorial of numbers from 1 to 5 using \n",
    "# list comprehension."
   ]
  },
  {
   "cell_type": "code",
   "execution_count": 162,
   "id": "babaff0b-9584-4bad-b0c5-fef523d0bf75",
   "metadata": {},
   "outputs": [
    {
     "name": "stdout",
     "output_type": "stream",
     "text": [
      "[1, 2, 6, 24]\n"
     ]
    }
   ],
   "source": [
    "s=[];  s=[s[-1] for x in range(1,5) if not s.append(x*s[-1] if s else 1)]\n",
    "print(s)"
   ]
  },
  {
   "cell_type": "code",
   "execution_count": null,
   "id": "790691a3-650b-4976-9f64-eddeca41d634",
   "metadata": {},
   "outputs": [],
   "source": [
    "# 37. Write a program that finds the longest word in a sentence using list comprehension."
   ]
  },
  {
   "cell_type": "code",
   "execution_count": null,
   "id": "81745845-8f04-4c73-84f2-8536cdd58ade",
   "metadata": {},
   "outputs": [],
   "source": [
    "# 38 Create a program that filters a list of strings to include only those with more than three vowels using \n",
    "# list comprehension."
   ]
  },
  {
   "cell_type": "code",
   "execution_count": 266,
   "id": "3c95e99a-587d-40e6-8ca0-d91e7029376c",
   "metadata": {},
   "outputs": [
    {
     "name": "stdout",
     "output_type": "stream",
     "text": [
      "['comprehension', 'eeeaaaii']\n"
     ]
    }
   ],
   "source": [
    "def count_vowels(word):\n",
    "    return sum(1 for char in word if char.lower() in 'aeiou')\n",
    "\n",
    "def filter_strings_by_vowels(string_list, threshold=3):\n",
    "    filtered_list = [word for word in string_list if count_vowels(word) > threshold]\n",
    "    return filtered_list\n",
    "\n",
    "# Example list of strings\n",
    "word_list = [\"hello\", \"world\", \"programming\", \"python\", \"list\", \"comprehension\",\"eeeaaaii\"]\n",
    "\n",
    "# Specify the threshold for the number of vowels\n",
    "vowel_threshold = 3\n",
    "\n",
    "# Filter and print the list of strings with more than three vowels\n",
    "filtered_words = filter_strings_by_vowels(word_list, vowel_threshold)\n",
    "print(filtered_words)\n"
   ]
  },
  {
   "cell_type": "code",
   "execution_count": 250,
   "id": "0c6a6002-a47c-4044-aacb-a5b53c194980",
   "metadata": {},
   "outputs": [
    {
     "name": "stdin",
     "output_type": "stream",
     "text": [
      "Enter mylist dskjcnodfv dovonvifevoefibvfoevnbfrev\n"
     ]
    },
    {
     "name": "stdout",
     "output_type": "stream",
     "text": [
      "Longest word in a sentence  ['dovonvifevoefibvfoevnbfrev']\n"
     ]
    }
   ],
   "source": [
    "my_list = input(\"Enter mylist\").split()\n",
    "lengths = [len(i) for i in my_list]\n",
    "max_length = max(lengths)\n",
    "longest_strings = [i for i in my_list if len(i) == max_length]\n",
    "print(\"Longest word in a sentence \", longest_strings)"
   ]
  },
  {
   "cell_type": "code",
   "execution_count": null,
   "id": "5359118b-bcf3-481e-84a6-17d843da4279",
   "metadata": {},
   "outputs": [],
   "source": [
    "# 39 Develop a program that calculates the sum of the digits of numbers from 1 to 1000 using list \n",
    "# comprehension."
   ]
  },
  {
   "cell_type": "code",
   "execution_count": 262,
   "id": "aaf2d48d-5a20-4303-a45e-a2c1cddf83fe",
   "metadata": {},
   "outputs": [
    {
     "name": "stdout",
     "output_type": "stream",
     "text": [
      "[1, 3, 6, 10, 15, 21, 28, 36, 45]\n"
     ]
    }
   ],
   "source": [
    "t=0\n",
    "es = [t := t+int(y) for x in range (1,10) for y in str(x)]\n",
    "print(es)"
   ]
  },
  {
   "cell_type": "code",
   "execution_count": null,
   "id": "03d2d60b-83f7-4b1a-99dd-3b5371004645",
   "metadata": {},
   "outputs": [],
   "source": [
    "# 40 Write a program that generates a list of prime palindromic numbers using list comprehension."
   ]
  },
  {
   "cell_type": "code",
   "execution_count": 264,
   "id": "40991c16-99be-4fc4-9af0-bd1d421c087a",
   "metadata": {},
   "outputs": [
    {
     "name": "stdout",
     "output_type": "stream",
     "text": [
      "[2, 3, 5, 7, 11, 101, 131, 151, 181, 191, 313, 353, 373, 383, 727, 757, 787, 797, 919, 929]\n"
     ]
    }
   ],
   "source": [
    "def is_prime(num):\n",
    "    if num < 2:\n",
    "        return False\n",
    "    for i in range(2, int(num**0.5) + 1):\n",
    "        if num % i == 0:\n",
    "            return False\n",
    "    return True\n",
    "\n",
    "def generate_prime_palindromes(limit):\n",
    "    palindromes = [num for num in range(1, limit) if str(num) == str(num)[::-1] and is_prime(num)]\n",
    "    return palindromes\n",
    "\n",
    "# Specify the limit for generating prime palindromes\n",
    "limit = 1000\n",
    "\n",
    "# Generate and print the list of prime palindromes\n",
    "prime_palindromes = generate_prime_palindromes(limit)\n",
    "print(prime_palindromes)\n"
   ]
  },
  {
   "cell_type": "code",
   "execution_count": null,
   "id": "7b10aa51-b2e9-4d3e-a718-1e0ca7fbb173",
   "metadata": {},
   "outputs": [],
   "source": []
  },
  {
   "cell_type": "code",
   "execution_count": null,
   "id": "79c80f59-688b-4e4b-b631-fca38478227d",
   "metadata": {},
   "outputs": [],
   "source": []
  },
  {
   "cell_type": "code",
   "execution_count": null,
   "id": "c89fb07e-13b5-49df-8f20-470ba211359f",
   "metadata": {},
   "outputs": [],
   "source": []
  },
  {
   "cell_type": "code",
   "execution_count": null,
   "id": "69beb3c4-cdbb-4116-9e6b-5a42233514ab",
   "metadata": {},
   "outputs": [],
   "source": []
  },
  {
   "cell_type": "code",
   "execution_count": null,
   "id": "7a58e582-c983-42cc-baf1-4aa55f254125",
   "metadata": {},
   "outputs": [],
   "source": []
  },
  {
   "cell_type": "code",
   "execution_count": null,
   "id": "b293c07a-7b23-4cf5-a048-1c29c00a8158",
   "metadata": {},
   "outputs": [],
   "source": []
  },
  {
   "cell_type": "code",
   "execution_count": null,
   "id": "8ef89dc4-b5a0-487e-9f49-11c9f8a679c7",
   "metadata": {},
   "outputs": [],
   "source": []
  },
  {
   "cell_type": "code",
   "execution_count": null,
   "id": "84fb0468-b746-4c19-a9db-53a764a11cf4",
   "metadata": {},
   "outputs": [],
   "source": []
  },
  {
   "cell_type": "code",
   "execution_count": null,
   "id": "46465e49-e897-4a0a-8aa4-7857a81bffc3",
   "metadata": {},
   "outputs": [],
   "source": []
  },
  {
   "cell_type": "code",
   "execution_count": null,
   "id": "99280142-2b28-458a-bd5a-9606248c7383",
   "metadata": {},
   "outputs": [],
   "source": []
  },
  {
   "cell_type": "code",
   "execution_count": null,
   "id": "03822581-1f14-48e7-bcd6-52b8a07bde04",
   "metadata": {},
   "outputs": [],
   "source": []
  },
  {
   "cell_type": "code",
   "execution_count": null,
   "id": "d2d058a3-9098-43ee-b1bc-28a9069b708b",
   "metadata": {},
   "outputs": [],
   "source": []
  },
  {
   "cell_type": "code",
   "execution_count": null,
   "id": "90134c2c-6de0-47b7-96c8-501b4515da1c",
   "metadata": {},
   "outputs": [],
   "source": []
  },
  {
   "cell_type": "code",
   "execution_count": null,
   "id": "c4824b26-6e12-4d17-9435-7d61967fe277",
   "metadata": {},
   "outputs": [],
   "source": []
  },
  {
   "cell_type": "code",
   "execution_count": null,
   "id": "faeaa8bc-f1b6-430c-bbd7-f60fdef5bd04",
   "metadata": {},
   "outputs": [],
   "source": []
  },
  {
   "cell_type": "code",
   "execution_count": null,
   "id": "11ca081d-0662-425b-813d-237f84cda968",
   "metadata": {},
   "outputs": [],
   "source": []
  },
  {
   "cell_type": "code",
   "execution_count": null,
   "id": "d8deaad2-bd84-42c6-a110-a9c2c36221d1",
   "metadata": {},
   "outputs": [],
   "source": []
  },
  {
   "cell_type": "code",
   "execution_count": null,
   "id": "cd70f7cd-2d77-440e-89f9-7387b85d06e8",
   "metadata": {},
   "outputs": [],
   "source": []
  },
  {
   "cell_type": "code",
   "execution_count": null,
   "id": "f7af129a-09c7-40a5-a199-40fd57852f1b",
   "metadata": {},
   "outputs": [],
   "source": []
  },
  {
   "cell_type": "code",
   "execution_count": null,
   "id": "8e808a60-9c58-41f4-83e0-186824df0266",
   "metadata": {},
   "outputs": [],
   "source": []
  },
  {
   "cell_type": "code",
   "execution_count": null,
   "id": "6a8ee7d2-9bd5-4703-83a0-b692f06de730",
   "metadata": {},
   "outputs": [],
   "source": []
  },
  {
   "cell_type": "code",
   "execution_count": null,
   "id": "230a1815-85a0-4a78-830b-2282497721c8",
   "metadata": {},
   "outputs": [],
   "source": []
  },
  {
   "cell_type": "code",
   "execution_count": null,
   "id": "5f6eb8ec-2904-42d8-a914-c1b2d1e465ff",
   "metadata": {},
   "outputs": [],
   "source": []
  },
  {
   "cell_type": "code",
   "execution_count": null,
   "id": "224d6135-dc61-44de-97d3-3c14de03ae62",
   "metadata": {},
   "outputs": [],
   "source": []
  },
  {
   "cell_type": "code",
   "execution_count": null,
   "id": "e14c7a2b-c0bb-4093-a83e-b855b01d329c",
   "metadata": {},
   "outputs": [],
   "source": []
  },
  {
   "cell_type": "code",
   "execution_count": null,
   "id": "8e34b6d1-8fb3-475b-9fce-71b684cca682",
   "metadata": {},
   "outputs": [],
   "source": []
  },
  {
   "cell_type": "code",
   "execution_count": null,
   "id": "a35c9269-c29e-4fa1-9c51-6f867a407df1",
   "metadata": {},
   "outputs": [],
   "source": []
  },
  {
   "cell_type": "code",
   "execution_count": null,
   "id": "da1949c6-45a2-4867-b154-7c96b3f68801",
   "metadata": {},
   "outputs": [],
   "source": []
  },
  {
   "cell_type": "code",
   "execution_count": null,
   "id": "47530547-b729-4f0a-b204-84d1b2b85583",
   "metadata": {},
   "outputs": [],
   "source": []
  },
  {
   "cell_type": "code",
   "execution_count": null,
   "id": "8a5b9d57-beec-4872-8b6d-6ff674faf1bf",
   "metadata": {},
   "outputs": [],
   "source": []
  },
  {
   "cell_type": "code",
   "execution_count": null,
   "id": "2222c973-c76c-4686-b4f7-3a4e306704e9",
   "metadata": {},
   "outputs": [],
   "source": []
  },
  {
   "cell_type": "code",
   "execution_count": null,
   "id": "a06fc63a-5af3-4788-bd41-c4e43518ee90",
   "metadata": {},
   "outputs": [],
   "source": []
  },
  {
   "cell_type": "code",
   "execution_count": null,
   "id": "0129de20-64e8-4f95-88fc-d9f966007b93",
   "metadata": {},
   "outputs": [],
   "source": []
  },
  {
   "cell_type": "code",
   "execution_count": null,
   "id": "d60cb685-7aa2-4a12-ac8c-4bbc1aa0841f",
   "metadata": {},
   "outputs": [],
   "source": []
  },
  {
   "cell_type": "code",
   "execution_count": null,
   "id": "cae03a7b-f441-45d2-b4ac-da8238af888d",
   "metadata": {},
   "outputs": [],
   "source": []
  },
  {
   "cell_type": "code",
   "execution_count": null,
   "id": "f8605bb6-3dc3-4a41-8f50-fff6324f364f",
   "metadata": {},
   "outputs": [],
   "source": []
  },
  {
   "cell_type": "code",
   "execution_count": null,
   "id": "9ba487c3-ee10-45cc-8727-22a04513128c",
   "metadata": {},
   "outputs": [],
   "source": []
  },
  {
   "cell_type": "code",
   "execution_count": null,
   "id": "219e0cf4-efa3-4d6e-a18a-2530e2900dd2",
   "metadata": {},
   "outputs": [],
   "source": []
  },
  {
   "cell_type": "code",
   "execution_count": null,
   "id": "5b031709-1078-4c6e-b938-d1f44272eb58",
   "metadata": {},
   "outputs": [],
   "source": []
  },
  {
   "cell_type": "code",
   "execution_count": null,
   "id": "b54b9cae-820c-4cb8-ab1b-0964628dbde7",
   "metadata": {},
   "outputs": [],
   "source": []
  },
  {
   "cell_type": "code",
   "execution_count": null,
   "id": "f74d30a3-cb30-40d1-924b-1aa699b93627",
   "metadata": {},
   "outputs": [],
   "source": []
  },
  {
   "cell_type": "code",
   "execution_count": null,
   "id": "d24408f5-ad03-4f27-8a26-5872c5a7d2ac",
   "metadata": {},
   "outputs": [],
   "source": []
  },
  {
   "cell_type": "code",
   "execution_count": null,
   "id": "3d314028-2cf4-4109-af9a-ff3b61d5fda2",
   "metadata": {},
   "outputs": [],
   "source": []
  },
  {
   "cell_type": "code",
   "execution_count": null,
   "id": "5e7c6356-b780-4342-b005-70a133f67270",
   "metadata": {},
   "outputs": [],
   "source": []
  },
  {
   "cell_type": "code",
   "execution_count": null,
   "id": "f667fd2f-b6e5-426d-a2c3-2fc5f78cea3b",
   "metadata": {},
   "outputs": [],
   "source": []
  },
  {
   "cell_type": "code",
   "execution_count": null,
   "id": "04174062-b2d6-4a05-bc41-3bded98c1703",
   "metadata": {},
   "outputs": [],
   "source": []
  },
  {
   "cell_type": "code",
   "execution_count": null,
   "id": "2972d99e-d97d-4ed0-8ad4-4d8bef37d5b3",
   "metadata": {},
   "outputs": [],
   "source": []
  },
  {
   "cell_type": "code",
   "execution_count": null,
   "id": "4a5bff83-7b50-409f-9e84-51f3e98f1d7d",
   "metadata": {},
   "outputs": [],
   "source": []
  },
  {
   "cell_type": "code",
   "execution_count": null,
   "id": "99e4b094-f4ca-4a5e-a652-2aa16929f919",
   "metadata": {},
   "outputs": [],
   "source": []
  },
  {
   "cell_type": "code",
   "execution_count": null,
   "id": "883fccab-8cfa-4aa2-b67c-66e445e3dd42",
   "metadata": {},
   "outputs": [],
   "source": []
  },
  {
   "cell_type": "code",
   "execution_count": null,
   "id": "08ebdc23-37ac-4b60-a4eb-f8e6b59020f8",
   "metadata": {},
   "outputs": [],
   "source": []
  },
  {
   "cell_type": "code",
   "execution_count": null,
   "id": "44b240e7-9292-4c0b-b73d-4c444531c3f9",
   "metadata": {},
   "outputs": [],
   "source": []
  },
  {
   "cell_type": "code",
   "execution_count": null,
   "id": "0fc44c97-f87c-4354-beee-d10467492bee",
   "metadata": {},
   "outputs": [],
   "source": []
  },
  {
   "cell_type": "code",
   "execution_count": null,
   "id": "95cad6c0-ca86-4d7e-8b6d-5f8b47d8bc48",
   "metadata": {},
   "outputs": [],
   "source": []
  },
  {
   "cell_type": "code",
   "execution_count": null,
   "id": "59294c7b-891b-492e-8829-620e5940a74d",
   "metadata": {},
   "outputs": [],
   "source": []
  },
  {
   "cell_type": "code",
   "execution_count": null,
   "id": "b8fd75d8-059d-4f70-90a1-f9c98e6cdcbc",
   "metadata": {},
   "outputs": [],
   "source": []
  },
  {
   "cell_type": "code",
   "execution_count": null,
   "id": "eedae5c8-a154-43a5-974b-159d89b22d87",
   "metadata": {},
   "outputs": [],
   "source": []
  },
  {
   "cell_type": "code",
   "execution_count": null,
   "id": "5a61aeb7-3737-400f-a1fa-73e1fb48e9ab",
   "metadata": {},
   "outputs": [],
   "source": []
  }
 ],
 "metadata": {
  "kernelspec": {
   "display_name": "Python 3 (ipykernel)",
   "language": "python",
   "name": "python3"
  },
  "language_info": {
   "codemirror_mode": {
    "name": "ipython",
    "version": 3
   },
   "file_extension": ".py",
   "mimetype": "text/x-python",
   "name": "python",
   "nbconvert_exporter": "python",
   "pygments_lexer": "ipython3",
   "version": "3.9.13"
  }
 },
 "nbformat": 4,
 "nbformat_minor": 5
}
