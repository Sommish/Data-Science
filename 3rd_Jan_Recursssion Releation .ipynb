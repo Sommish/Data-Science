{
 "cells": [
  {
   "cell_type": "code",
   "execution_count": null,
   "id": "6b604a85-70d0-4706-bfd1-f33bcba4ece8",
   "metadata": {},
   "outputs": [],
   "source": [
    "def T(n):\n",
    "    if n == 0:\n",
    "        return 5\n",
    "    else:\n",
    "        return 3 * T(n-1) + 12 * n\n",
    "\n",
    "# Find the value of T(2)\n",
    "result = T(2)\n",
    "\n",
    "print(result)  `\n"
   ]
  },
  {
   "cell_type": "code",
   "execution_count": 1,
   "id": "0ca31673-f8c7-4edf-8585-263cdff888ea",
   "metadata": {},
   "outputs": [
    {
     "name": "stdout",
     "output_type": "stream",
     "text": [
      "11\n",
      "32\n",
      "29\n",
      "10\n"
     ]
    }
   ],
   "source": [
    "\n",
    "\n",
    "### a. \\( T(n) = T(n-1) + c \\)\n",
    "\n",
    "\n",
    "def T_a(n, c, T0):\n",
    "    return T0 + n * c\n",
    "\n",
    "# Example usage\n",
    "n = 5\n",
    "c = 2\n",
    "T0 = 1\n",
    "print(T_a(n, c, T0))  # Output: 11\n",
    "\n",
    "\n",
    "### b. \\( T(n) = 2T(n/2) + n \\)\n",
    "\n",
    "\n",
    "def T_b(n, T1):\n",
    "    if n == 1:\n",
    "        return T1\n",
    "    else:\n",
    "        return 2 * T_b(n // 2, T1) + n\n",
    "\n",
    "# Example usage\n",
    "n = 8\n",
    "T1 = 1\n",
    "print(T_b(n, T1))  # Output: 49\n",
    "\n",
    "\n",
    "### c. \\( T(n) = 2T(n/2) + c \\)\n",
    "\n",
    "\n",
    "def T_c(n, c, T1):\n",
    "    if n == 1:\n",
    "        return T1\n",
    "    else:\n",
    "        return 2 * T_c(n // 2, c, T1) + c\n",
    "\n",
    "# Example usage\n",
    "n = 8\n",
    "c = 3\n",
    "T1 = 1\n",
    "print(T_c(n, c, T1))  # Output: 25\n",
    "\n",
    "\n",
    "### d. \\( T(n) = T(n/2) + c \\)\n",
    "\n",
    "def T_d(n, c, T1):\n",
    "    if n == 1:\n",
    "        return T1\n",
    "    else:\n",
    "        return T_d(n // 2, c, T1) + c\n",
    "\n",
    "# Example usage\n",
    "n = 8\n",
    "c = 3\n",
    "T1 = 1\n",
    "print(T_d(n, c, T1))  # Output: 10\n"
   ]
  },
  {
   "cell_type": "code",
   "execution_count": null,
   "id": "d727e868-5ee8-468b-963b-989e5314a588",
   "metadata": {},
   "outputs": [],
   "source": []
  },
  {
   "cell_type": "code",
   "execution_count": null,
   "id": "bf63a655-8848-45dc-b87d-a1e00ee5fa91",
   "metadata": {},
   "outputs": [],
   "source": []
  },
  {
   "cell_type": "code",
   "execution_count": null,
   "id": "6b268186-92fc-439c-b142-44e6294b2592",
   "metadata": {},
   "outputs": [],
   "source": []
  },
  {
   "cell_type": "code",
   "execution_count": null,
   "id": "e2ddab2a-9dfd-48b3-8228-4c4bfb9b18b7",
   "metadata": {},
   "outputs": [],
   "source": []
  },
  {
   "cell_type": "code",
   "execution_count": null,
   "id": "8c3ae799-9b33-448e-9092-8de1057dd42a",
   "metadata": {},
   "outputs": [],
   "source": []
  }
 ],
 "metadata": {
  "kernelspec": {
   "display_name": "Python 3 (ipykernel)",
   "language": "python",
   "name": "python3"
  },
  "language_info": {
   "codemirror_mode": {
    "name": "ipython",
    "version": 3
   },
   "file_extension": ".py",
   "mimetype": "text/x-python",
   "name": "python",
   "nbconvert_exporter": "python",
   "pygments_lexer": "ipython3",
   "version": "3.9.13"
  }
 },
 "nbformat": 4,
 "nbformat_minor": 5
}
